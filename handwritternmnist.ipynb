{
  "cells": [
    {
      "cell_type": "code",
      "execution_count": null,
      "metadata": {
        "colab": {
          "base_uri": "https://localhost:8080/"
        },
        "id": "_uQCMgpnK9mN",
        "outputId": "fe4598e9-07b9-4552-818f-548b8ae2630c"
      },
      "outputs": [
        {
          "name": "stdout",
          "output_type": "stream",
          "text": [
            "Requirement already satisfied: scikit-learn in /usr/local/lib/python3.10/dist-packages (1.2.2)\n",
            "Requirement already satisfied: numpy>=1.17.3 in /usr/local/lib/python3.10/dist-packages (from scikit-learn) (1.23.5)\n",
            "Requirement already satisfied: scipy>=1.3.2 in /usr/local/lib/python3.10/dist-packages (from scikit-learn) (1.11.4)\n",
            "Requirement already satisfied: joblib>=1.1.1 in /usr/local/lib/python3.10/dist-packages (from scikit-learn) (1.3.2)\n",
            "Requirement already satisfied: threadpoolctl>=2.0.0 in /usr/local/lib/python3.10/dist-packages (from scikit-learn) (3.2.0)\n"
          ]
        }
      ],
      "source": [
        "!pip install scikit-learn\n"
      ]
    },
    {
      "cell_type": "code",
      "execution_count": null,
      "metadata": {
        "id": "aCMwmI9WKm5l"
      },
      "outputs": [],
      "source": [
        "from sklearn.datasets import fetch_openml  #fetch_openml()\n"
      ]
    },
    {
      "cell_type": "code",
      "execution_count": null,
      "metadata": {
        "colab": {
          "base_uri": "https://localhost:8080/"
        },
        "id": "k-XMaxuxL1qr",
        "outputId": "dd2ee0bc-6a09-4ffe-d111-0a2ddd378ee7"
      },
      "outputs": [
        {
          "name": "stdout",
          "output_type": "stream",
          "text": [
            "Requirement already satisfied: pandas in /usr/local/lib/python3.10/dist-packages (1.5.3)\n",
            "Requirement already satisfied: python-dateutil>=2.8.1 in /usr/local/lib/python3.10/dist-packages (from pandas) (2.8.2)\n",
            "Requirement already satisfied: pytz>=2020.1 in /usr/local/lib/python3.10/dist-packages (from pandas) (2023.3.post1)\n",
            "Requirement already satisfied: numpy>=1.21.0 in /usr/local/lib/python3.10/dist-packages (from pandas) (1.23.5)\n",
            "Requirement already satisfied: six>=1.5 in /usr/local/lib/python3.10/dist-packages (from python-dateutil>=2.8.1->pandas) (1.16.0)\n"
          ]
        }
      ],
      "source": [
        "!pip install pandas\n"
      ]
    },
    {
      "cell_type": "code",
      "execution_count": null,
      "metadata": {
        "id": "xuq7y0S-KvYu"
      },
      "outputs": [],
      "source": []
    },
    {
      "cell_type": "code",
      "execution_count": null,
      "metadata": {
        "id": "DVoOJtq9KvWN"
      },
      "outputs": [],
      "source": [
        "import warnings\n",
        "\n",
        "import matplotlib.pyplot as plt\n",
        "\n",
        "from sklearn.datasets import fetch_openml\n",
        "from sklearn.exceptions import ConvergenceWarning\n",
        "from sklearn.model_selection import train_test_split\n",
        "from sklearn.neural_network import MLPClassifier\n"
      ]
    },
    {
      "cell_type": "code",
      "execution_count": null,
      "metadata": {
        "colab": {
          "base_uri": "https://localhost:8080/"
        },
        "id": "pj7Q9vNIOkCO",
        "outputId": "c84022ca-350a-4a67-ef2c-ffa35d34574d"
      },
      "outputs": [
        {
          "name": "stderr",
          "output_type": "stream",
          "text": [
            "/usr/local/lib/python3.10/dist-packages/sklearn/datasets/_openml.py:968: FutureWarning: The default value of `parser` will change from `'liac-arff'` to `'auto'` in 1.4. You can set `parser='auto'` to silence this warning. Therefore, an `ImportError` will be raised from 1.4 if the dataset is dense and pandas is not installed. Note that the pandas parser may return different data types. See the Notes Section in fetch_openml's API doc for details.\n",
            "  warn(\n"
          ]
        }
      ],
      "source": [
        "from sklearn.datasets import fetch_openml\n",
        "mnist = fetch_openml(\"mnist_784\")\n"
      ]
    },
    {
      "cell_type": "code",
      "execution_count": null,
      "metadata": {
        "colab": {
          "base_uri": "https://localhost:8080/"
        },
        "id": "8mUAAzaYOmcA",
        "outputId": "cba737a6-ffc2-4fcd-de54-de5b793140ad"
      },
      "outputs": [
        {
          "data": {
            "text/plain": [
              "{'data':        pixel1  pixel2  pixel3  pixel4  pixel5  pixel6  pixel7  pixel8  pixel9  \\\n",
              " 0         0.0     0.0     0.0     0.0     0.0     0.0     0.0     0.0     0.0   \n",
              " 1         0.0     0.0     0.0     0.0     0.0     0.0     0.0     0.0     0.0   \n",
              " 2         0.0     0.0     0.0     0.0     0.0     0.0     0.0     0.0     0.0   \n",
              " 3         0.0     0.0     0.0     0.0     0.0     0.0     0.0     0.0     0.0   \n",
              " 4         0.0     0.0     0.0     0.0     0.0     0.0     0.0     0.0     0.0   \n",
              " ...       ...     ...     ...     ...     ...     ...     ...     ...     ...   \n",
              " 69995     0.0     0.0     0.0     0.0     0.0     0.0     0.0     0.0     0.0   \n",
              " 69996     0.0     0.0     0.0     0.0     0.0     0.0     0.0     0.0     0.0   \n",
              " 69997     0.0     0.0     0.0     0.0     0.0     0.0     0.0     0.0     0.0   \n",
              " 69998     0.0     0.0     0.0     0.0     0.0     0.0     0.0     0.0     0.0   \n",
              " 69999     0.0     0.0     0.0     0.0     0.0     0.0     0.0     0.0     0.0   \n",
              " \n",
              "        pixel10  ...  pixel775  pixel776  pixel777  pixel778  pixel779  \\\n",
              " 0          0.0  ...       0.0       0.0       0.0       0.0       0.0   \n",
              " 1          0.0  ...       0.0       0.0       0.0       0.0       0.0   \n",
              " 2          0.0  ...       0.0       0.0       0.0       0.0       0.0   \n",
              " 3          0.0  ...       0.0       0.0       0.0       0.0       0.0   \n",
              " 4          0.0  ...       0.0       0.0       0.0       0.0       0.0   \n",
              " ...        ...  ...       ...       ...       ...       ...       ...   \n",
              " 69995      0.0  ...       0.0       0.0       0.0       0.0       0.0   \n",
              " 69996      0.0  ...       0.0       0.0       0.0       0.0       0.0   \n",
              " 69997      0.0  ...       0.0       0.0       0.0       0.0       0.0   \n",
              " 69998      0.0  ...       0.0       0.0       0.0       0.0       0.0   \n",
              " 69999      0.0  ...       0.0       0.0       0.0       0.0       0.0   \n",
              " \n",
              "        pixel780  pixel781  pixel782  pixel783  pixel784  \n",
              " 0           0.0       0.0       0.0       0.0       0.0  \n",
              " 1           0.0       0.0       0.0       0.0       0.0  \n",
              " 2           0.0       0.0       0.0       0.0       0.0  \n",
              " 3           0.0       0.0       0.0       0.0       0.0  \n",
              " 4           0.0       0.0       0.0       0.0       0.0  \n",
              " ...         ...       ...       ...       ...       ...  \n",
              " 69995       0.0       0.0       0.0       0.0       0.0  \n",
              " 69996       0.0       0.0       0.0       0.0       0.0  \n",
              " 69997       0.0       0.0       0.0       0.0       0.0  \n",
              " 69998       0.0       0.0       0.0       0.0       0.0  \n",
              " 69999       0.0       0.0       0.0       0.0       0.0  \n",
              " \n",
              " [70000 rows x 784 columns],\n",
              " 'target': 0        5\n",
              " 1        0\n",
              " 2        4\n",
              " 3        1\n",
              " 4        9\n",
              "         ..\n",
              " 69995    2\n",
              " 69996    3\n",
              " 69997    4\n",
              " 69998    5\n",
              " 69999    6\n",
              " Name: class, Length: 70000, dtype: category\n",
              " Categories (10, object): ['0', '1', '2', '3', ..., '6', '7', '8', '9'],\n",
              " 'frame':        pixel1  pixel2  pixel3  pixel4  pixel5  pixel6  pixel7  pixel8  pixel9  \\\n",
              " 0         0.0     0.0     0.0     0.0     0.0     0.0     0.0     0.0     0.0   \n",
              " 1         0.0     0.0     0.0     0.0     0.0     0.0     0.0     0.0     0.0   \n",
              " 2         0.0     0.0     0.0     0.0     0.0     0.0     0.0     0.0     0.0   \n",
              " 3         0.0     0.0     0.0     0.0     0.0     0.0     0.0     0.0     0.0   \n",
              " 4         0.0     0.0     0.0     0.0     0.0     0.0     0.0     0.0     0.0   \n",
              " ...       ...     ...     ...     ...     ...     ...     ...     ...     ...   \n",
              " 69995     0.0     0.0     0.0     0.0     0.0     0.0     0.0     0.0     0.0   \n",
              " 69996     0.0     0.0     0.0     0.0     0.0     0.0     0.0     0.0     0.0   \n",
              " 69997     0.0     0.0     0.0     0.0     0.0     0.0     0.0     0.0     0.0   \n",
              " 69998     0.0     0.0     0.0     0.0     0.0     0.0     0.0     0.0     0.0   \n",
              " 69999     0.0     0.0     0.0     0.0     0.0     0.0     0.0     0.0     0.0   \n",
              " \n",
              "        pixel10  ...  pixel776  pixel777  pixel778  pixel779  pixel780  \\\n",
              " 0          0.0  ...       0.0       0.0       0.0       0.0       0.0   \n",
              " 1          0.0  ...       0.0       0.0       0.0       0.0       0.0   \n",
              " 2          0.0  ...       0.0       0.0       0.0       0.0       0.0   \n",
              " 3          0.0  ...       0.0       0.0       0.0       0.0       0.0   \n",
              " 4          0.0  ...       0.0       0.0       0.0       0.0       0.0   \n",
              " ...        ...  ...       ...       ...       ...       ...       ...   \n",
              " 69995      0.0  ...       0.0       0.0       0.0       0.0       0.0   \n",
              " 69996      0.0  ...       0.0       0.0       0.0       0.0       0.0   \n",
              " 69997      0.0  ...       0.0       0.0       0.0       0.0       0.0   \n",
              " 69998      0.0  ...       0.0       0.0       0.0       0.0       0.0   \n",
              " 69999      0.0  ...       0.0       0.0       0.0       0.0       0.0   \n",
              " \n",
              "        pixel781  pixel782  pixel783  pixel784  class  \n",
              " 0           0.0       0.0       0.0       0.0      5  \n",
              " 1           0.0       0.0       0.0       0.0      0  \n",
              " 2           0.0       0.0       0.0       0.0      4  \n",
              " 3           0.0       0.0       0.0       0.0      1  \n",
              " 4           0.0       0.0       0.0       0.0      9  \n",
              " ...         ...       ...       ...       ...    ...  \n",
              " 69995       0.0       0.0       0.0       0.0      2  \n",
              " 69996       0.0       0.0       0.0       0.0      3  \n",
              " 69997       0.0       0.0       0.0       0.0      4  \n",
              " 69998       0.0       0.0       0.0       0.0      5  \n",
              " 69999       0.0       0.0       0.0       0.0      6  \n",
              " \n",
              " [70000 rows x 785 columns],\n",
              " 'categories': None,\n",
              " 'feature_names': ['pixel1',\n",
              "  'pixel2',\n",
              "  'pixel3',\n",
              "  'pixel4',\n",
              "  'pixel5',\n",
              "  'pixel6',\n",
              "  'pixel7',\n",
              "  'pixel8',\n",
              "  'pixel9',\n",
              "  'pixel10',\n",
              "  'pixel11',\n",
              "  'pixel12',\n",
              "  'pixel13',\n",
              "  'pixel14',\n",
              "  'pixel15',\n",
              "  'pixel16',\n",
              "  'pixel17',\n",
              "  'pixel18',\n",
              "  'pixel19',\n",
              "  'pixel20',\n",
              "  'pixel21',\n",
              "  'pixel22',\n",
              "  'pixel23',\n",
              "  'pixel24',\n",
              "  'pixel25',\n",
              "  'pixel26',\n",
              "  'pixel27',\n",
              "  'pixel28',\n",
              "  'pixel29',\n",
              "  'pixel30',\n",
              "  'pixel31',\n",
              "  'pixel32',\n",
              "  'pixel33',\n",
              "  'pixel34',\n",
              "  'pixel35',\n",
              "  'pixel36',\n",
              "  'pixel37',\n",
              "  'pixel38',\n",
              "  'pixel39',\n",
              "  'pixel40',\n",
              "  'pixel41',\n",
              "  'pixel42',\n",
              "  'pixel43',\n",
              "  'pixel44',\n",
              "  'pixel45',\n",
              "  'pixel46',\n",
              "  'pixel47',\n",
              "  'pixel48',\n",
              "  'pixel49',\n",
              "  'pixel50',\n",
              "  'pixel51',\n",
              "  'pixel52',\n",
              "  'pixel53',\n",
              "  'pixel54',\n",
              "  'pixel55',\n",
              "  'pixel56',\n",
              "  'pixel57',\n",
              "  'pixel58',\n",
              "  'pixel59',\n",
              "  'pixel60',\n",
              "  'pixel61',\n",
              "  'pixel62',\n",
              "  'pixel63',\n",
              "  'pixel64',\n",
              "  'pixel65',\n",
              "  'pixel66',\n",
              "  'pixel67',\n",
              "  'pixel68',\n",
              "  'pixel69',\n",
              "  'pixel70',\n",
              "  'pixel71',\n",
              "  'pixel72',\n",
              "  'pixel73',\n",
              "  'pixel74',\n",
              "  'pixel75',\n",
              "  'pixel76',\n",
              "  'pixel77',\n",
              "  'pixel78',\n",
              "  'pixel79',\n",
              "  'pixel80',\n",
              "  'pixel81',\n",
              "  'pixel82',\n",
              "  'pixel83',\n",
              "  'pixel84',\n",
              "  'pixel85',\n",
              "  'pixel86',\n",
              "  'pixel87',\n",
              "  'pixel88',\n",
              "  'pixel89',\n",
              "  'pixel90',\n",
              "  'pixel91',\n",
              "  'pixel92',\n",
              "  'pixel93',\n",
              "  'pixel94',\n",
              "  'pixel95',\n",
              "  'pixel96',\n",
              "  'pixel97',\n",
              "  'pixel98',\n",
              "  'pixel99',\n",
              "  'pixel100',\n",
              "  'pixel101',\n",
              "  'pixel102',\n",
              "  'pixel103',\n",
              "  'pixel104',\n",
              "  'pixel105',\n",
              "  'pixel106',\n",
              "  'pixel107',\n",
              "  'pixel108',\n",
              "  'pixel109',\n",
              "  'pixel110',\n",
              "  'pixel111',\n",
              "  'pixel112',\n",
              "  'pixel113',\n",
              "  'pixel114',\n",
              "  'pixel115',\n",
              "  'pixel116',\n",
              "  'pixel117',\n",
              "  'pixel118',\n",
              "  'pixel119',\n",
              "  'pixel120',\n",
              "  'pixel121',\n",
              "  'pixel122',\n",
              "  'pixel123',\n",
              "  'pixel124',\n",
              "  'pixel125',\n",
              "  'pixel126',\n",
              "  'pixel127',\n",
              "  'pixel128',\n",
              "  'pixel129',\n",
              "  'pixel130',\n",
              "  'pixel131',\n",
              "  'pixel132',\n",
              "  'pixel133',\n",
              "  'pixel134',\n",
              "  'pixel135',\n",
              "  'pixel136',\n",
              "  'pixel137',\n",
              "  'pixel138',\n",
              "  'pixel139',\n",
              "  'pixel140',\n",
              "  'pixel141',\n",
              "  'pixel142',\n",
              "  'pixel143',\n",
              "  'pixel144',\n",
              "  'pixel145',\n",
              "  'pixel146',\n",
              "  'pixel147',\n",
              "  'pixel148',\n",
              "  'pixel149',\n",
              "  'pixel150',\n",
              "  'pixel151',\n",
              "  'pixel152',\n",
              "  'pixel153',\n",
              "  'pixel154',\n",
              "  'pixel155',\n",
              "  'pixel156',\n",
              "  'pixel157',\n",
              "  'pixel158',\n",
              "  'pixel159',\n",
              "  'pixel160',\n",
              "  'pixel161',\n",
              "  'pixel162',\n",
              "  'pixel163',\n",
              "  'pixel164',\n",
              "  'pixel165',\n",
              "  'pixel166',\n",
              "  'pixel167',\n",
              "  'pixel168',\n",
              "  'pixel169',\n",
              "  'pixel170',\n",
              "  'pixel171',\n",
              "  'pixel172',\n",
              "  'pixel173',\n",
              "  'pixel174',\n",
              "  'pixel175',\n",
              "  'pixel176',\n",
              "  'pixel177',\n",
              "  'pixel178',\n",
              "  'pixel179',\n",
              "  'pixel180',\n",
              "  'pixel181',\n",
              "  'pixel182',\n",
              "  'pixel183',\n",
              "  'pixel184',\n",
              "  'pixel185',\n",
              "  'pixel186',\n",
              "  'pixel187',\n",
              "  'pixel188',\n",
              "  'pixel189',\n",
              "  'pixel190',\n",
              "  'pixel191',\n",
              "  'pixel192',\n",
              "  'pixel193',\n",
              "  'pixel194',\n",
              "  'pixel195',\n",
              "  'pixel196',\n",
              "  'pixel197',\n",
              "  'pixel198',\n",
              "  'pixel199',\n",
              "  'pixel200',\n",
              "  'pixel201',\n",
              "  'pixel202',\n",
              "  'pixel203',\n",
              "  'pixel204',\n",
              "  'pixel205',\n",
              "  'pixel206',\n",
              "  'pixel207',\n",
              "  'pixel208',\n",
              "  'pixel209',\n",
              "  'pixel210',\n",
              "  'pixel211',\n",
              "  'pixel212',\n",
              "  'pixel213',\n",
              "  'pixel214',\n",
              "  'pixel215',\n",
              "  'pixel216',\n",
              "  'pixel217',\n",
              "  'pixel218',\n",
              "  'pixel219',\n",
              "  'pixel220',\n",
              "  'pixel221',\n",
              "  'pixel222',\n",
              "  'pixel223',\n",
              "  'pixel224',\n",
              "  'pixel225',\n",
              "  'pixel226',\n",
              "  'pixel227',\n",
              "  'pixel228',\n",
              "  'pixel229',\n",
              "  'pixel230',\n",
              "  'pixel231',\n",
              "  'pixel232',\n",
              "  'pixel233',\n",
              "  'pixel234',\n",
              "  'pixel235',\n",
              "  'pixel236',\n",
              "  'pixel237',\n",
              "  'pixel238',\n",
              "  'pixel239',\n",
              "  'pixel240',\n",
              "  'pixel241',\n",
              "  'pixel242',\n",
              "  'pixel243',\n",
              "  'pixel244',\n",
              "  'pixel245',\n",
              "  'pixel246',\n",
              "  'pixel247',\n",
              "  'pixel248',\n",
              "  'pixel249',\n",
              "  'pixel250',\n",
              "  'pixel251',\n",
              "  'pixel252',\n",
              "  'pixel253',\n",
              "  'pixel254',\n",
              "  'pixel255',\n",
              "  'pixel256',\n",
              "  'pixel257',\n",
              "  'pixel258',\n",
              "  'pixel259',\n",
              "  'pixel260',\n",
              "  'pixel261',\n",
              "  'pixel262',\n",
              "  'pixel263',\n",
              "  'pixel264',\n",
              "  'pixel265',\n",
              "  'pixel266',\n",
              "  'pixel267',\n",
              "  'pixel268',\n",
              "  'pixel269',\n",
              "  'pixel270',\n",
              "  'pixel271',\n",
              "  'pixel272',\n",
              "  'pixel273',\n",
              "  'pixel274',\n",
              "  'pixel275',\n",
              "  'pixel276',\n",
              "  'pixel277',\n",
              "  'pixel278',\n",
              "  'pixel279',\n",
              "  'pixel280',\n",
              "  'pixel281',\n",
              "  'pixel282',\n",
              "  'pixel283',\n",
              "  'pixel284',\n",
              "  'pixel285',\n",
              "  'pixel286',\n",
              "  'pixel287',\n",
              "  'pixel288',\n",
              "  'pixel289',\n",
              "  'pixel290',\n",
              "  'pixel291',\n",
              "  'pixel292',\n",
              "  'pixel293',\n",
              "  'pixel294',\n",
              "  'pixel295',\n",
              "  'pixel296',\n",
              "  'pixel297',\n",
              "  'pixel298',\n",
              "  'pixel299',\n",
              "  'pixel300',\n",
              "  'pixel301',\n",
              "  'pixel302',\n",
              "  'pixel303',\n",
              "  'pixel304',\n",
              "  'pixel305',\n",
              "  'pixel306',\n",
              "  'pixel307',\n",
              "  'pixel308',\n",
              "  'pixel309',\n",
              "  'pixel310',\n",
              "  'pixel311',\n",
              "  'pixel312',\n",
              "  'pixel313',\n",
              "  'pixel314',\n",
              "  'pixel315',\n",
              "  'pixel316',\n",
              "  'pixel317',\n",
              "  'pixel318',\n",
              "  'pixel319',\n",
              "  'pixel320',\n",
              "  'pixel321',\n",
              "  'pixel322',\n",
              "  'pixel323',\n",
              "  'pixel324',\n",
              "  'pixel325',\n",
              "  'pixel326',\n",
              "  'pixel327',\n",
              "  'pixel328',\n",
              "  'pixel329',\n",
              "  'pixel330',\n",
              "  'pixel331',\n",
              "  'pixel332',\n",
              "  'pixel333',\n",
              "  'pixel334',\n",
              "  'pixel335',\n",
              "  'pixel336',\n",
              "  'pixel337',\n",
              "  'pixel338',\n",
              "  'pixel339',\n",
              "  'pixel340',\n",
              "  'pixel341',\n",
              "  'pixel342',\n",
              "  'pixel343',\n",
              "  'pixel344',\n",
              "  'pixel345',\n",
              "  'pixel346',\n",
              "  'pixel347',\n",
              "  'pixel348',\n",
              "  'pixel349',\n",
              "  'pixel350',\n",
              "  'pixel351',\n",
              "  'pixel352',\n",
              "  'pixel353',\n",
              "  'pixel354',\n",
              "  'pixel355',\n",
              "  'pixel356',\n",
              "  'pixel357',\n",
              "  'pixel358',\n",
              "  'pixel359',\n",
              "  'pixel360',\n",
              "  'pixel361',\n",
              "  'pixel362',\n",
              "  'pixel363',\n",
              "  'pixel364',\n",
              "  'pixel365',\n",
              "  'pixel366',\n",
              "  'pixel367',\n",
              "  'pixel368',\n",
              "  'pixel369',\n",
              "  'pixel370',\n",
              "  'pixel371',\n",
              "  'pixel372',\n",
              "  'pixel373',\n",
              "  'pixel374',\n",
              "  'pixel375',\n",
              "  'pixel376',\n",
              "  'pixel377',\n",
              "  'pixel378',\n",
              "  'pixel379',\n",
              "  'pixel380',\n",
              "  'pixel381',\n",
              "  'pixel382',\n",
              "  'pixel383',\n",
              "  'pixel384',\n",
              "  'pixel385',\n",
              "  'pixel386',\n",
              "  'pixel387',\n",
              "  'pixel388',\n",
              "  'pixel389',\n",
              "  'pixel390',\n",
              "  'pixel391',\n",
              "  'pixel392',\n",
              "  'pixel393',\n",
              "  'pixel394',\n",
              "  'pixel395',\n",
              "  'pixel396',\n",
              "  'pixel397',\n",
              "  'pixel398',\n",
              "  'pixel399',\n",
              "  'pixel400',\n",
              "  'pixel401',\n",
              "  'pixel402',\n",
              "  'pixel403',\n",
              "  'pixel404',\n",
              "  'pixel405',\n",
              "  'pixel406',\n",
              "  'pixel407',\n",
              "  'pixel408',\n",
              "  'pixel409',\n",
              "  'pixel410',\n",
              "  'pixel411',\n",
              "  'pixel412',\n",
              "  'pixel413',\n",
              "  'pixel414',\n",
              "  'pixel415',\n",
              "  'pixel416',\n",
              "  'pixel417',\n",
              "  'pixel418',\n",
              "  'pixel419',\n",
              "  'pixel420',\n",
              "  'pixel421',\n",
              "  'pixel422',\n",
              "  'pixel423',\n",
              "  'pixel424',\n",
              "  'pixel425',\n",
              "  'pixel426',\n",
              "  'pixel427',\n",
              "  'pixel428',\n",
              "  'pixel429',\n",
              "  'pixel430',\n",
              "  'pixel431',\n",
              "  'pixel432',\n",
              "  'pixel433',\n",
              "  'pixel434',\n",
              "  'pixel435',\n",
              "  'pixel436',\n",
              "  'pixel437',\n",
              "  'pixel438',\n",
              "  'pixel439',\n",
              "  'pixel440',\n",
              "  'pixel441',\n",
              "  'pixel442',\n",
              "  'pixel443',\n",
              "  'pixel444',\n",
              "  'pixel445',\n",
              "  'pixel446',\n",
              "  'pixel447',\n",
              "  'pixel448',\n",
              "  'pixel449',\n",
              "  'pixel450',\n",
              "  'pixel451',\n",
              "  'pixel452',\n",
              "  'pixel453',\n",
              "  'pixel454',\n",
              "  'pixel455',\n",
              "  'pixel456',\n",
              "  'pixel457',\n",
              "  'pixel458',\n",
              "  'pixel459',\n",
              "  'pixel460',\n",
              "  'pixel461',\n",
              "  'pixel462',\n",
              "  'pixel463',\n",
              "  'pixel464',\n",
              "  'pixel465',\n",
              "  'pixel466',\n",
              "  'pixel467',\n",
              "  'pixel468',\n",
              "  'pixel469',\n",
              "  'pixel470',\n",
              "  'pixel471',\n",
              "  'pixel472',\n",
              "  'pixel473',\n",
              "  'pixel474',\n",
              "  'pixel475',\n",
              "  'pixel476',\n",
              "  'pixel477',\n",
              "  'pixel478',\n",
              "  'pixel479',\n",
              "  'pixel480',\n",
              "  'pixel481',\n",
              "  'pixel482',\n",
              "  'pixel483',\n",
              "  'pixel484',\n",
              "  'pixel485',\n",
              "  'pixel486',\n",
              "  'pixel487',\n",
              "  'pixel488',\n",
              "  'pixel489',\n",
              "  'pixel490',\n",
              "  'pixel491',\n",
              "  'pixel492',\n",
              "  'pixel493',\n",
              "  'pixel494',\n",
              "  'pixel495',\n",
              "  'pixel496',\n",
              "  'pixel497',\n",
              "  'pixel498',\n",
              "  'pixel499',\n",
              "  'pixel500',\n",
              "  'pixel501',\n",
              "  'pixel502',\n",
              "  'pixel503',\n",
              "  'pixel504',\n",
              "  'pixel505',\n",
              "  'pixel506',\n",
              "  'pixel507',\n",
              "  'pixel508',\n",
              "  'pixel509',\n",
              "  'pixel510',\n",
              "  'pixel511',\n",
              "  'pixel512',\n",
              "  'pixel513',\n",
              "  'pixel514',\n",
              "  'pixel515',\n",
              "  'pixel516',\n",
              "  'pixel517',\n",
              "  'pixel518',\n",
              "  'pixel519',\n",
              "  'pixel520',\n",
              "  'pixel521',\n",
              "  'pixel522',\n",
              "  'pixel523',\n",
              "  'pixel524',\n",
              "  'pixel525',\n",
              "  'pixel526',\n",
              "  'pixel527',\n",
              "  'pixel528',\n",
              "  'pixel529',\n",
              "  'pixel530',\n",
              "  'pixel531',\n",
              "  'pixel532',\n",
              "  'pixel533',\n",
              "  'pixel534',\n",
              "  'pixel535',\n",
              "  'pixel536',\n",
              "  'pixel537',\n",
              "  'pixel538',\n",
              "  'pixel539',\n",
              "  'pixel540',\n",
              "  'pixel541',\n",
              "  'pixel542',\n",
              "  'pixel543',\n",
              "  'pixel544',\n",
              "  'pixel545',\n",
              "  'pixel546',\n",
              "  'pixel547',\n",
              "  'pixel548',\n",
              "  'pixel549',\n",
              "  'pixel550',\n",
              "  'pixel551',\n",
              "  'pixel552',\n",
              "  'pixel553',\n",
              "  'pixel554',\n",
              "  'pixel555',\n",
              "  'pixel556',\n",
              "  'pixel557',\n",
              "  'pixel558',\n",
              "  'pixel559',\n",
              "  'pixel560',\n",
              "  'pixel561',\n",
              "  'pixel562',\n",
              "  'pixel563',\n",
              "  'pixel564',\n",
              "  'pixel565',\n",
              "  'pixel566',\n",
              "  'pixel567',\n",
              "  'pixel568',\n",
              "  'pixel569',\n",
              "  'pixel570',\n",
              "  'pixel571',\n",
              "  'pixel572',\n",
              "  'pixel573',\n",
              "  'pixel574',\n",
              "  'pixel575',\n",
              "  'pixel576',\n",
              "  'pixel577',\n",
              "  'pixel578',\n",
              "  'pixel579',\n",
              "  'pixel580',\n",
              "  'pixel581',\n",
              "  'pixel582',\n",
              "  'pixel583',\n",
              "  'pixel584',\n",
              "  'pixel585',\n",
              "  'pixel586',\n",
              "  'pixel587',\n",
              "  'pixel588',\n",
              "  'pixel589',\n",
              "  'pixel590',\n",
              "  'pixel591',\n",
              "  'pixel592',\n",
              "  'pixel593',\n",
              "  'pixel594',\n",
              "  'pixel595',\n",
              "  'pixel596',\n",
              "  'pixel597',\n",
              "  'pixel598',\n",
              "  'pixel599',\n",
              "  'pixel600',\n",
              "  'pixel601',\n",
              "  'pixel602',\n",
              "  'pixel603',\n",
              "  'pixel604',\n",
              "  'pixel605',\n",
              "  'pixel606',\n",
              "  'pixel607',\n",
              "  'pixel608',\n",
              "  'pixel609',\n",
              "  'pixel610',\n",
              "  'pixel611',\n",
              "  'pixel612',\n",
              "  'pixel613',\n",
              "  'pixel614',\n",
              "  'pixel615',\n",
              "  'pixel616',\n",
              "  'pixel617',\n",
              "  'pixel618',\n",
              "  'pixel619',\n",
              "  'pixel620',\n",
              "  'pixel621',\n",
              "  'pixel622',\n",
              "  'pixel623',\n",
              "  'pixel624',\n",
              "  'pixel625',\n",
              "  'pixel626',\n",
              "  'pixel627',\n",
              "  'pixel628',\n",
              "  'pixel629',\n",
              "  'pixel630',\n",
              "  'pixel631',\n",
              "  'pixel632',\n",
              "  'pixel633',\n",
              "  'pixel634',\n",
              "  'pixel635',\n",
              "  'pixel636',\n",
              "  'pixel637',\n",
              "  'pixel638',\n",
              "  'pixel639',\n",
              "  'pixel640',\n",
              "  'pixel641',\n",
              "  'pixel642',\n",
              "  'pixel643',\n",
              "  'pixel644',\n",
              "  'pixel645',\n",
              "  'pixel646',\n",
              "  'pixel647',\n",
              "  'pixel648',\n",
              "  'pixel649',\n",
              "  'pixel650',\n",
              "  'pixel651',\n",
              "  'pixel652',\n",
              "  'pixel653',\n",
              "  'pixel654',\n",
              "  'pixel655',\n",
              "  'pixel656',\n",
              "  'pixel657',\n",
              "  'pixel658',\n",
              "  'pixel659',\n",
              "  'pixel660',\n",
              "  'pixel661',\n",
              "  'pixel662',\n",
              "  'pixel663',\n",
              "  'pixel664',\n",
              "  'pixel665',\n",
              "  'pixel666',\n",
              "  'pixel667',\n",
              "  'pixel668',\n",
              "  'pixel669',\n",
              "  'pixel670',\n",
              "  'pixel671',\n",
              "  'pixel672',\n",
              "  'pixel673',\n",
              "  'pixel674',\n",
              "  'pixel675',\n",
              "  'pixel676',\n",
              "  'pixel677',\n",
              "  'pixel678',\n",
              "  'pixel679',\n",
              "  'pixel680',\n",
              "  'pixel681',\n",
              "  'pixel682',\n",
              "  'pixel683',\n",
              "  'pixel684',\n",
              "  'pixel685',\n",
              "  'pixel686',\n",
              "  'pixel687',\n",
              "  'pixel688',\n",
              "  'pixel689',\n",
              "  'pixel690',\n",
              "  'pixel691',\n",
              "  'pixel692',\n",
              "  'pixel693',\n",
              "  'pixel694',\n",
              "  'pixel695',\n",
              "  'pixel696',\n",
              "  'pixel697',\n",
              "  'pixel698',\n",
              "  'pixel699',\n",
              "  'pixel700',\n",
              "  'pixel701',\n",
              "  'pixel702',\n",
              "  'pixel703',\n",
              "  'pixel704',\n",
              "  'pixel705',\n",
              "  'pixel706',\n",
              "  'pixel707',\n",
              "  'pixel708',\n",
              "  'pixel709',\n",
              "  'pixel710',\n",
              "  'pixel711',\n",
              "  'pixel712',\n",
              "  'pixel713',\n",
              "  'pixel714',\n",
              "  'pixel715',\n",
              "  'pixel716',\n",
              "  'pixel717',\n",
              "  'pixel718',\n",
              "  'pixel719',\n",
              "  'pixel720',\n",
              "  'pixel721',\n",
              "  'pixel722',\n",
              "  'pixel723',\n",
              "  'pixel724',\n",
              "  'pixel725',\n",
              "  'pixel726',\n",
              "  'pixel727',\n",
              "  'pixel728',\n",
              "  'pixel729',\n",
              "  'pixel730',\n",
              "  'pixel731',\n",
              "  'pixel732',\n",
              "  'pixel733',\n",
              "  'pixel734',\n",
              "  'pixel735',\n",
              "  'pixel736',\n",
              "  'pixel737',\n",
              "  'pixel738',\n",
              "  'pixel739',\n",
              "  'pixel740',\n",
              "  'pixel741',\n",
              "  'pixel742',\n",
              "  'pixel743',\n",
              "  'pixel744',\n",
              "  'pixel745',\n",
              "  'pixel746',\n",
              "  'pixel747',\n",
              "  'pixel748',\n",
              "  'pixel749',\n",
              "  'pixel750',\n",
              "  'pixel751',\n",
              "  'pixel752',\n",
              "  'pixel753',\n",
              "  'pixel754',\n",
              "  'pixel755',\n",
              "  'pixel756',\n",
              "  'pixel757',\n",
              "  'pixel758',\n",
              "  'pixel759',\n",
              "  'pixel760',\n",
              "  'pixel761',\n",
              "  'pixel762',\n",
              "  'pixel763',\n",
              "  'pixel764',\n",
              "  'pixel765',\n",
              "  'pixel766',\n",
              "  'pixel767',\n",
              "  'pixel768',\n",
              "  'pixel769',\n",
              "  'pixel770',\n",
              "  'pixel771',\n",
              "  'pixel772',\n",
              "  'pixel773',\n",
              "  'pixel774',\n",
              "  'pixel775',\n",
              "  'pixel776',\n",
              "  'pixel777',\n",
              "  'pixel778',\n",
              "  'pixel779',\n",
              "  'pixel780',\n",
              "  'pixel781',\n",
              "  'pixel782',\n",
              "  'pixel783',\n",
              "  'pixel784'],\n",
              " 'target_names': ['class'],\n",
              " 'DESCR': \"**Author**: Yann LeCun, Corinna Cortes, Christopher J.C. Burges  \\n**Source**: [MNIST Website](http://yann.lecun.com/exdb/mnist/) - Date unknown  \\n**Please cite**:  \\n\\nThe MNIST database of handwritten digits with 784 features, raw data available at: http://yann.lecun.com/exdb/mnist/. It can be split in a training set of the first 60,000 examples, and a test set of 10,000 examples  \\n\\nIt is a subset of a larger set available from NIST. The digits have been size-normalized and centered in a fixed-size image. It is a good database for people who want to try learning techniques and pattern recognition methods on real-world data while spending minimal efforts on preprocessing and formatting. The original black and white (bilevel) images from NIST were size normalized to fit in a 20x20 pixel box while preserving their aspect ratio. The resulting images contain grey levels as a result of the anti-aliasing technique used by the normalization algorithm. the images were centered in a 28x28 image by computing the center of mass of the pixels, and translating the image so as to position this point at the center of the 28x28 field.  \\n\\nWith some classification methods (particularly template-based methods, such as SVM and K-nearest neighbors), the error rate improves when the digits are centered by bounding box rather than center of mass. If you do this kind of pre-processing, you should report it in your publications. The MNIST database was constructed from NIST's NIST originally designated SD-3 as their training set and SD-1 as their test set. However, SD-3 is much cleaner and easier to recognize than SD-1. The reason for this can be found on the fact that SD-3 was collected among Census Bureau employees, while SD-1 was collected among high-school students. Drawing sensible conclusions from learning experiments requires that the result be independent of the choice of training set and test among the complete set of samples. Therefore it was necessary to build a new database by mixing NIST's datasets.  \\n\\nThe MNIST training set is composed of 30,000 patterns from SD-3 and 30,000 patterns from SD-1. Our test set was composed of 5,000 patterns from SD-3 and 5,000 patterns from SD-1. The 60,000 pattern training set contained examples from approximately 250 writers. We made sure that the sets of writers of the training set and test set were disjoint. SD-1 contains 58,527 digit images written by 500 different writers. In contrast to SD-3, where blocks of data from each writer appeared in sequence, the data in SD-1 is scrambled. Writer identities for SD-1 is available and we used this information to unscramble the writers. We then split SD-1 in two: characters written by the first 250 writers went into our new training set. The remaining 250 writers were placed in our test set. Thus we had two sets with nearly 30,000 examples each. The new training set was completed with enough examples from SD-3, starting at pattern # 0, to make a full set of 60,000 training patterns. Similarly, the new test set was completed with SD-3 examples starting at pattern # 35,000 to make a full set with 60,000 test patterns. Only a subset of 10,000 test images (5,000 from SD-1 and 5,000 from SD-3) is available on this site. The full 60,000 sample training set is available.\\n\\nDownloaded from openml.org.\",\n",
              " 'details': {'id': '554',\n",
              "  'name': 'mnist_784',\n",
              "  'version': '1',\n",
              "  'description_version': '2',\n",
              "  'format': 'ARFF',\n",
              "  'creator': ['Yann LeCun', 'Corinna Cortes', 'Christopher J.C. Burges'],\n",
              "  'upload_date': '2014-09-29T03:28:38',\n",
              "  'language': 'English',\n",
              "  'licence': 'Public',\n",
              "  'url': 'https://api.openml.org/data/v1/download/52667/mnist_784.arff',\n",
              "  'parquet_url': 'http://openml1.win.tue.nl/dataset554/dataset_554.pq',\n",
              "  'file_id': '52667',\n",
              "  'default_target_attribute': 'class',\n",
              "  'tag': ['AzurePilot',\n",
              "   'OpenML-CC18',\n",
              "   'OpenML100',\n",
              "   'study_1',\n",
              "   'study_123',\n",
              "   'study_41',\n",
              "   'study_99',\n",
              "   'vision'],\n",
              "  'visibility': 'public',\n",
              "  'minio_url': 'http://openml1.win.tue.nl/dataset554/dataset_554.pq',\n",
              "  'status': 'active',\n",
              "  'processing_date': '2020-11-20 20:12:09',\n",
              "  'md5_checksum': '0298d579eb1b86163de7723944c7e495'},\n",
              " 'url': 'https://www.openml.org/d/554'}"
            ]
          },
          "execution_count": 6,
          "metadata": {},
          "output_type": "execute_result"
        }
      ],
      "source": [
        "mnist\n"
      ]
    },
    {
      "cell_type": "code",
      "execution_count": null,
      "metadata": {
        "id": "UuTPrFroQcPY"
      },
      "outputs": [],
      "source": [
        "X,y=mnist['data'],mnist['target']\n"
      ]
    },
    {
      "cell_type": "code",
      "execution_count": null,
      "metadata": {
        "colab": {
          "base_uri": "https://localhost:8080/"
        },
        "id": "VIyeJCa4Qrzs",
        "outputId": "3a471b39-8c91-43ce-9957-562783c8e284"
      },
      "outputs": [
        {
          "data": {
            "text/plain": [
              "(70000, 784)"
            ]
          },
          "execution_count": 8,
          "metadata": {},
          "output_type": "execute_result"
        }
      ],
      "source": [
        "X.shape\n"
      ]
    },
    {
      "cell_type": "code",
      "execution_count": null,
      "metadata": {
        "colab": {
          "base_uri": "https://localhost:8080/"
        },
        "id": "4Qg1ESO1Qwjg",
        "outputId": "86a3e243-d18b-4f93-b6cc-f68bf50a38c7"
      },
      "outputs": [
        {
          "data": {
            "text/plain": [
              "(70000,)"
            ]
          },
          "execution_count": 9,
          "metadata": {},
          "output_type": "execute_result"
        }
      ],
      "source": [
        "y.shape\n"
      ]
    },
    {
      "cell_type": "code",
      "execution_count": null,
      "metadata": {
        "id": "ms76w6PzQzTG"
      },
      "outputs": [],
      "source": [
        "%matplotlib inline\n"
      ]
    },
    {
      "cell_type": "code",
      "execution_count": null,
      "metadata": {
        "id": "__f82d1PQ4W1"
      },
      "outputs": [],
      "source": [
        "import matplotlib\n",
        "import matplotlib.pyplot as plt\n",
        "import pandas as pd\n",
        "import numpy as np\n",
        "import keras\n",
        "from keras.models import Sequential\n",
        "from keras.layers import Dense, Conv2D, MaxPool2D, Flatten, Dropout\n"
      ]
    },
    {
      "cell_type": "code",
      "execution_count": null,
      "metadata": {
        "id": "hGWz_wKvR-hY"
      },
      "outputs": [],
      "source": [
        "from keras.datasets import mnist\n"
      ]
    },
    {
      "cell_type": "code",
      "execution_count": null,
      "metadata": {
        "colab": {
          "base_uri": "https://localhost:8080/"
        },
        "id": "4ZJK2X-0SyZU",
        "outputId": "3346f5de-7f6a-4e79-dabb-f9ca93e5b66d"
      },
      "outputs": [
        {
          "data": {
            "text/plain": [
              "<function keras.src.datasets.mnist.load_data(path='mnist.npz')>"
            ]
          },
          "execution_count": 13,
          "metadata": {},
          "output_type": "execute_result"
        }
      ],
      "source": [
        "mnist.load_data\n"
      ]
    },
    {
      "cell_type": "code",
      "execution_count": null,
      "metadata": {
        "colab": {
          "base_uri": "https://localhost:8080/"
        },
        "id": "p3Si4qGySyV2",
        "outputId": "e57c3df4-3790-4830-e548-74f2cfe6d6e1"
      },
      "outputs": [
        {
          "name": "stdout",
          "output_type": "stream",
          "text": [
            "Downloading data from https://storage.googleapis.com/tensorflow/tf-keras-datasets/mnist.npz\n",
            "11490434/11490434 [==============================] - 0s 0us/step\n"
          ]
        }
      ],
      "source": [
        "(X_train, y_train), (X_test, y_test)=mnist.load_data()\n",
        "\n"
      ]
    },
    {
      "cell_type": "code",
      "execution_count": null,
      "metadata": {
        "colab": {
          "base_uri": "https://localhost:8080/"
        },
        "id": "uWy4cC_4SyTY",
        "outputId": "af30bca9-4945-4bdd-e820-ff5fa4b0f41b"
      },
      "outputs": [
        {
          "data": {
            "text/plain": [
              "((60000, 28, 28), (10000, 28, 28), (60000,), (10000,))"
            ]
          },
          "execution_count": 15,
          "metadata": {},
          "output_type": "execute_result"
        }
      ],
      "source": [
        "X_train.shape, X_test.shape, y_train.shape, y_test.shape"
      ]
    },
    {
      "cell_type": "code",
      "execution_count": null,
      "metadata": {
        "id": "-YqeZR1DSyQ0"
      },
      "outputs": [],
      "source": [
        "def plot_input_img(i):\n",
        "    plt.imshow(X_train[i], cmap='binary')\n",
        "    plt.title(y_train[i])\n",
        "    plt.show()\n"
      ]
    },
    {
      "cell_type": "code",
      "execution_count": null,
      "metadata": {
        "colab": {
          "base_uri": "https://localhost:8080/",
          "height": 1000
        },
        "id": "3zGaE7EcUKgT",
        "outputId": "d568e53b-b7ca-4d5f-f7e1-2d44f72763a5"
      },
      "outputs": [
        {
          "data": {
            "image/png": "[encoded data removed]",
            "text/plain": [
              "<Figure size 640x480 with 1 Axes>"
            ]
          },
          "metadata": {},
          "output_type": "display_data"
        },
        {
          "data": {
            "image/png": "[encoded data removed]",
            "text/plain": [
              "<Figure size 640x480 with 1 Axes>"
            ]
          },
          "metadata": {},
          "output_type": "display_data"
        },
        {
          "data": {
            "image/png": "[encoded data removed]",
            "text/plain": [
              "<Figure size 640x480 with 1 Axes>"
            ]
          },
          "metadata": {},
          "output_type": "display_data"
        },
        {
          "data": {
            "image/png": "[encoded data removed]",
            "text/plain": [
              "<Figure size 640x480 with 1 Axes>"
            ]
          },
          "metadata": {},
          "output_type": "display_data"
        },
        {
          "data": {
            "image/png": "[encoded data removed]",
            "text/plain": [
              "<Figure size 640x480 with 1 Axes>"
            ]
          },
          "metadata": {},
          "output_type": "display_data"
        }
      ],
      "source": [
        "for i in range(5):\n",
        "    plot_input_img(i)\n"
      ]
    },
    {
      "cell_type": "markdown",
      "metadata": {
        "id": "3rK7MXzrUczr"
      },
      "source": [
        "Preprocess the dataset"
      ]
    },
    {
      "cell_type": "code",
      "execution_count": null,
      "metadata": {
        "id": "KUlMG3LhSyOM"
      },
      "outputs": [],
      "source": [
        "#normalizing the image to [0, 1] range\n",
        "X_train=X_train.astype(np.float32)/255\n",
        "X_test=X_test.astype(np.float32)/255\n"
      ]
    },
    {
      "cell_type": "code",
      "execution_count": null,
      "metadata": {
        "id": "C7H4axfDSyLy"
      },
      "outputs": [],
      "source": [
        "X_train=np.expand_dims(X_train, -1)  #expand\n",
        "X_test=np.expand_dims(X_test, -1)   #(60000, 28, 28, 1)\n"
      ]
    },
    {
      "cell_type": "code",
      "execution_count": null,
      "metadata": {
        "colab": {
          "base_uri": "https://localhost:8080/"
        },
        "id": "-LsaORIfSyI4",
        "outputId": "1cc5d307-7f26-45cc-b498-64a68e799414"
      },
      "outputs": [
        {
          "data": {
            "text/plain": [
              "(60000, 28, 28, 1)"
            ]
          },
          "execution_count": 20,
          "metadata": {},
          "output_type": "execute_result"
        }
      ],
      "source": [
        "X_train.shape\n"
      ]
    },
    {
      "cell_type": "markdown",
      "metadata": {
        "id": "AtEVnipmVnZE"
      },
      "source": [
        "OneHotVector"
      ]
    },
    {
      "cell_type": "code",
      "execution_count": null,
      "metadata": {
        "id": "HPSfkCutSyGf"
      },
      "outputs": [],
      "source": [
        "y_train =keras.utils.to_categorical(y_train)\n"
      ]
    },
    {
      "cell_type": "code",
      "execution_count": null,
      "metadata": {
        "colab": {
          "base_uri": "https://localhost:8080/"
        },
        "id": "iTaijVYuSyEC",
        "outputId": "4219df93-f74a-4f3f-fd11-c0c607267c5a"
      },
      "outputs": [
        {
          "data": {
            "text/plain": [
              "array([[0., 0., 0., ..., 0., 0., 0.],\n",
              "       [1., 0., 0., ..., 0., 0., 0.],\n",
              "       [0., 0., 0., ..., 0., 0., 0.],\n",
              "       ...,\n",
              "       [0., 0., 0., ..., 0., 0., 0.],\n",
              "       [0., 0., 0., ..., 0., 0., 0.],\n",
              "       [0., 0., 0., ..., 0., 1., 0.]], dtype=float32)"
            ]
          },
          "execution_count": 22,
          "metadata": {},
          "output_type": "execute_result"
        }
      ],
      "source": [
        "y_train  #only whereever the value is present it will show the 1 there\n"
      ]
    },
    {
      "cell_type": "code",
      "execution_count": null,
      "metadata": {
        "id": "mOM4LAbtSyBr"
      },
      "outputs": [],
      "source": [
        "y_test =keras.utils.to_categorical(y_test)\n"
      ]
    },
    {
      "cell_type": "markdown",
      "metadata": {
        "id": "B4K85f6MWOXs"
      },
      "source": [
        "###To buils the model we have to import the libraries"
      ]
    },
    {
      "cell_type": "code",
      "execution_count": null,
      "metadata": {
        "colab": {
          "base_uri": "https://localhost:8080/"
        },
        "id": "ueq0F_pgSx_F",
        "outputId": "b480e344-b927-47d8-ce2e-d3e8159c576a"
      },
      "outputs": [
        {
          "name": "stdout",
          "output_type": "stream",
          "text": [
            "Model: \"sequential\"\n",
            "_________________________________________________________________\n",
            " Layer (type)                Output Shape              Param #   \n",
            "=================================================================\n",
            " conv2d (Conv2D)             (None, 26, 26, 32)        320       \n",
            "                                                                 \n",
            " max_pooling2d (MaxPooling2  (None, 13, 13, 32)        0         \n",
            " D)                                                              \n",
            "                                                                 \n",
            " conv2d_1 (Conv2D)           (None, 11, 11, 64)        18496     \n",
            "                                                                 \n",
            " max_pooling2d_1 (MaxPoolin  (None, 5, 5, 64)          0         \n",
            " g2D)                                                            \n",
            "                                                                 \n",
            " flatten (Flatten)           (None, 1600)              0         \n",
            "                                                                 \n",
            " dropout (Dropout)           (None, 1600)              0         \n",
            "                                                                 \n",
            " dense (Dense)               (None, 10)                16010     \n",
            "                                                                 \n",
            "=================================================================\n",
            "Total params: 34826 (136.04 KB)\n",
            "Trainable params: 34826 (136.04 KB)\n",
            "Non-trainable params: 0 (0.00 Byte)\n",
            "_________________________________________________________________\n"
          ]
        }
      ],
      "source": [
        "model=Sequential()\n",
        "model.add(Conv2D(32, (3,3), input_shape=(28, 28,1), activation='relu'))\n",
        "model.add(MaxPool2D((2, 2)))\n",
        "\n",
        "model.add(Conv2D(64, (3,3), activation='relu'))\n",
        "model.add(MaxPool2D((2, 2)))\n",
        "\n",
        "model.add(Flatten())\n",
        "model.add(Dropout(0.25))\n",
        "model.add(Dense(10, activation=\"softmax\"))\n",
        "model.summary()\n"
      ]
    },
    {
      "cell_type": "code",
      "execution_count": null,
      "metadata": {
        "id": "jRBEt8tjSx8h"
      },
      "outputs": [],
      "source": [
        "model.compile(optimizer='adam', loss=keras.losses.categorical_crossentropy, metrics=['accuracy'] )\n"
      ]
    },
    {
      "cell_type": "code",
      "execution_count": null,
      "metadata": {
        "id": "5BuLEj44Sx6O"
      },
      "outputs": [],
      "source": [
        "from keras.callbacks import EarlyStopping, ModelCheckpoint\n",
        "es = EarlyStopping(monitor='val_acc', min_delta=0.01, patience=4, verbose=1)\n",
        "mc = ModelCheckpoint((\"./bestmodel.h5\"), monitor=\"val_acc\", verbose=1, save_best_only=True)\n"
      ]
    },
    {
      "cell_type": "code",
      "execution_count": null,
      "metadata": {
        "colab": {
          "base_uri": "https://localhost:8080/"
        },
        "id": "2X3Zy81CSx31",
        "outputId": "e099001b-24e3-4646-d122-54127793a3df"
      },
      "outputs": [
        {
          "name": "stdout",
          "output_type": "stream",
          "text": [
            "Epoch 1/50\n",
            "1313/1313 [==============================] - 66s 48ms/step - loss: 0.2142 - accuracy: 0.9354 - val_loss: 0.0754 - val_accuracy: 0.9768\n",
            "Epoch 2/50\n",
            "1313/1313 [==============================] - 42s 32ms/step - loss: 0.0707 - accuracy: 0.9784 - val_loss: 0.0570 - val_accuracy: 0.9824\n",
            "Epoch 3/50\n",
            "1313/1313 [==============================] - 43s 33ms/step - loss: 0.0520 - accuracy: 0.9834 - val_loss: 0.0553 - val_accuracy: 0.9837\n",
            "Epoch 4/50\n",
            "1313/1313 [==============================] - 40s 31ms/step - loss: 0.0437 - accuracy: 0.9859 - val_loss: 0.0429 - val_accuracy: 0.9867\n",
            "Epoch 5/50\n",
            "1313/1313 [==============================] - 40s 31ms/step - loss: 0.0364 - accuracy: 0.9885 - val_loss: 0.0516 - val_accuracy: 0.9845\n",
            "Epoch 6/50\n",
            "1313/1313 [==============================] - 41s 31ms/step - loss: 0.0324 - accuracy: 0.9892 - val_loss: 0.0462 - val_accuracy: 0.9862\n",
            "Epoch 7/50\n",
            "1313/1313 [==============================] - 45s 35ms/step - loss: 0.0273 - accuracy: 0.9915 - val_loss: 0.0409 - val_accuracy: 0.9889\n",
            "Epoch 8/50\n",
            "1313/1313 [==============================] - 44s 34ms/step - loss: 0.0250 - accuracy: 0.9918 - val_loss: 0.0412 - val_accuracy: 0.9885\n",
            "Epoch 9/50\n",
            "1313/1313 [==============================] - 40s 31ms/step - loss: 0.0203 - accuracy: 0.9932 - val_loss: 0.0495 - val_accuracy: 0.9866\n",
            "Epoch 10/50\n",
            "1313/1313 [==============================] - 41s 31ms/step - loss: 0.0206 - accuracy: 0.9934 - val_loss: 0.0430 - val_accuracy: 0.9881\n",
            "Epoch 11/50\n",
            "1313/1313 [==============================] - 45s 34ms/step - loss: 0.0180 - accuracy: 0.9935 - val_loss: 0.0393 - val_accuracy: 0.9895\n",
            "Epoch 12/50\n",
            "1313/1313 [==============================] - 40s 31ms/step - loss: 0.0156 - accuracy: 0.9943 - val_loss: 0.0455 - val_accuracy: 0.9891\n",
            "Epoch 13/50\n",
            "1313/1313 [==============================] - 41s 31ms/step - loss: 0.0153 - accuracy: 0.9945 - val_loss: 0.0412 - val_accuracy: 0.9897\n",
            "Epoch 14/50\n",
            "1313/1313 [==============================] - 40s 31ms/step - loss: 0.0135 - accuracy: 0.9952 - val_loss: 0.0435 - val_accuracy: 0.9886\n",
            "Epoch 15/50\n",
            "1313/1313 [==============================] - 41s 31ms/step - loss: 0.0128 - accuracy: 0.9953 - val_loss: 0.0459 - val_accuracy: 0.9892\n",
            "Epoch 16/50\n",
            "1313/1313 [==============================] - 46s 35ms/step - loss: 0.0125 - accuracy: 0.9958 - val_loss: 0.0429 - val_accuracy: 0.9900\n",
            "Epoch 17/50\n",
            "1313/1313 [==============================] - 42s 32ms/step - loss: 0.0130 - accuracy: 0.9951 - val_loss: 0.0430 - val_accuracy: 0.9900\n",
            "Epoch 18/50\n",
            "1313/1313 [==============================] - 45s 35ms/step - loss: 0.0117 - accuracy: 0.9958 - val_loss: 0.0472 - val_accuracy: 0.9889\n",
            "Epoch 19/50\n",
            "1313/1313 [==============================] - 42s 32ms/step - loss: 0.0102 - accuracy: 0.9965 - val_loss: 0.0453 - val_accuracy: 0.9896\n",
            "Epoch 20/50\n",
            "1313/1313 [==============================] - 41s 31ms/step - loss: 0.0091 - accuracy: 0.9968 - val_loss: 0.0454 - val_accuracy: 0.9907\n",
            "Epoch 21/50\n",
            "1313/1313 [==============================] - 41s 32ms/step - loss: 0.0103 - accuracy: 0.9966 - val_loss: 0.0461 - val_accuracy: 0.9892\n",
            "Epoch 22/50\n",
            "1313/1313 [==============================] - 44s 33ms/step - loss: 0.0093 - accuracy: 0.9969 - val_loss: 0.0424 - val_accuracy: 0.9903\n",
            "Epoch 23/50\n",
            "1313/1313 [==============================] - 43s 33ms/step - loss: 0.0090 - accuracy: 0.9970 - val_loss: 0.0446 - val_accuracy: 0.9897\n",
            "Epoch 24/50\n",
            "1313/1313 [==============================] - 44s 33ms/step - loss: 0.0077 - accuracy: 0.9972 - val_loss: 0.0517 - val_accuracy: 0.9894\n",
            "Epoch 25/50\n",
            "1313/1313 [==============================] - 43s 32ms/step - loss: 0.0083 - accuracy: 0.9971 - val_loss: 0.0457 - val_accuracy: 0.9900\n",
            "Epoch 26/50\n",
            "1313/1313 [==============================] - 41s 31ms/step - loss: 0.0090 - accuracy: 0.9970 - val_loss: 0.0501 - val_accuracy: 0.9895\n",
            "Epoch 27/50\n",
            "1313/1313 [==============================] - 42s 32ms/step - loss: 0.0088 - accuracy: 0.9971 - val_loss: 0.0456 - val_accuracy: 0.9908\n",
            "Epoch 28/50\n",
            "1313/1313 [==============================] - 41s 31ms/step - loss: 0.0078 - accuracy: 0.9973 - val_loss: 0.0500 - val_accuracy: 0.9893\n",
            "Epoch 29/50\n",
            "1313/1313 [==============================] - 43s 32ms/step - loss: 0.0068 - accuracy: 0.9976 - val_loss: 0.0496 - val_accuracy: 0.9896\n",
            "Epoch 30/50\n",
            "1313/1313 [==============================] - 42s 32ms/step - loss: 0.0074 - accuracy: 0.9975 - val_loss: 0.0467 - val_accuracy: 0.9911\n",
            "Epoch 31/50\n",
            "1313/1313 [==============================] - 41s 31ms/step - loss: 0.0064 - accuracy: 0.9972 - val_loss: 0.0549 - val_accuracy: 0.9901\n",
            "Epoch 32/50\n",
            "1313/1313 [==============================] - 42s 32ms/step - loss: 0.0072 - accuracy: 0.9975 - val_loss: 0.0515 - val_accuracy: 0.9906\n",
            "Epoch 33/50\n",
            "1313/1313 [==============================] - 40s 30ms/step - loss: 0.0067 - accuracy: 0.9979 - val_loss: 0.0549 - val_accuracy: 0.9893\n",
            "Epoch 34/50\n",
            "1313/1313 [==============================] - 46s 35ms/step - loss: 0.0060 - accuracy: 0.9980 - val_loss: 0.0562 - val_accuracy: 0.9900\n",
            "Epoch 35/50\n",
            "1313/1313 [==============================] - 41s 31ms/step - loss: 0.0072 - accuracy: 0.9974 - val_loss: 0.0571 - val_accuracy: 0.9902\n",
            "Epoch 36/50\n",
            "1313/1313 [==============================] - 42s 32ms/step - loss: 0.0063 - accuracy: 0.9979 - val_loss: 0.0494 - val_accuracy: 0.9912\n",
            "Epoch 37/50\n",
            "1313/1313 [==============================] - 42s 32ms/step - loss: 0.0066 - accuracy: 0.9977 - val_loss: 0.0579 - val_accuracy: 0.9899\n",
            "Epoch 38/50\n",
            "1313/1313 [==============================] - 41s 31ms/step - loss: 0.0062 - accuracy: 0.9978 - val_loss: 0.0544 - val_accuracy: 0.9908\n",
            "Epoch 39/50\n",
            "1313/1313 [==============================] - 41s 31ms/step - loss: 0.0050 - accuracy: 0.9984 - val_loss: 0.0561 - val_accuracy: 0.9913\n",
            "Epoch 40/50\n",
            "1313/1313 [==============================] - 41s 31ms/step - loss: 0.0062 - accuracy: 0.9978 - val_loss: 0.0498 - val_accuracy: 0.9911\n",
            "Epoch 41/50\n",
            "1313/1313 [==============================] - 45s 34ms/step - loss: 0.0061 - accuracy: 0.9982 - val_loss: 0.0546 - val_accuracy: 0.9908\n",
            "Epoch 42/50\n",
            "1313/1313 [==============================] - 42s 32ms/step - loss: 0.0066 - accuracy: 0.9978 - val_loss: 0.0529 - val_accuracy: 0.9908\n",
            "Epoch 43/50\n",
            "1313/1313 [==============================] - 42s 32ms/step - loss: 0.0051 - accuracy: 0.9982 - val_loss: 0.0523 - val_accuracy: 0.9908\n",
            "Epoch 44/50\n",
            "1313/1313 [==============================] - 40s 31ms/step - loss: 0.0066 - accuracy: 0.9977 - val_loss: 0.0564 - val_accuracy: 0.9911\n",
            "Epoch 45/50\n",
            "1313/1313 [==============================] - 42s 32ms/step - loss: 0.0071 - accuracy: 0.9978 - val_loss: 0.0554 - val_accuracy: 0.9903\n",
            "Epoch 46/50\n",
            "1313/1313 [==============================] - 46s 35ms/step - loss: 0.0053 - accuracy: 0.9983 - val_loss: 0.0516 - val_accuracy: 0.9912\n",
            "Epoch 47/50\n",
            "1313/1313 [==============================] - 41s 32ms/step - loss: 0.0045 - accuracy: 0.9982 - val_loss: 0.0602 - val_accuracy: 0.9898\n",
            "Epoch 48/50\n",
            "1313/1313 [==============================] - 41s 31ms/step - loss: 0.0054 - accuracy: 0.9985 - val_loss: 0.0583 - val_accuracy: 0.9906\n",
            "Epoch 49/50\n",
            "1313/1313 [==============================] - 41s 32ms/step - loss: 0.0048 - accuracy: 0.9984 - val_loss: 0.0537 - val_accuracy: 0.9908\n",
            "Epoch 50/50\n",
            "1313/1313 [==============================] - 41s 31ms/step - loss: 0.0042 - accuracy: 0.9986 - val_loss: 0.0595 - val_accuracy: 0.9902\n"
          ]
        },
        {
          "data": {
            "text/plain": [
              "<keras.src.callbacks.History at 0x7ce664f0eda0>"
            ]
          },
          "execution_count": 27,
          "metadata": {},
          "output_type": "execute_result"
        }
      ],
      "source": [
        "model.fit(X_train, y_train, epochs=50, validation_split=0.3)\n"
      ]
    },
    {
      "cell_type": "code",
      "execution_count": null,
      "metadata": {
        "colab": {
          "base_uri": "https://localhost:8080/"
        },
        "id": "QsEdS7N7jzBt",
        "outputId": "cdd9df57-d1f4-4644-9df7-754941cb4379"
      },
      "outputs": [
        {
          "name": "stderr",
          "output_type": "stream",
          "text": [
            "/usr/local/lib/python3.10/dist-packages/keras/src/engine/training.py:3103: UserWarning: You are saving your model as an HDF5 file via `model.save()`. This file format is considered legacy. We recommend using instead the native Keras format, e.g. `model.save('my_model.keras')`.\n",
            "  saving_api.save_model(\n"
          ]
        }
      ],
      "source": [
        "model_s = model.save(\"./bestmodel.h5\")\n"
      ]
    },
    {
      "cell_type": "code",
      "execution_count": null,
      "metadata": {
        "id": "Ot9SqRq6l3hB"
      },
      "outputs": [],
      "source": [
        "model_s=keras.models.load_model(\"./bestmodel.h5\")"
      ]
    },
    {
      "cell_type": "code",
      "execution_count": null,
      "metadata": {
        "colab": {
          "base_uri": "https://localhost:8080/"
        },
        "id": "9t59SMbbkCSj",
        "outputId": "55c363fe-9fb5-40b2-974f-6206c10bcc65"
      },
      "outputs": [
        {
          "name": "stdout",
          "output_type": "stream",
          "text": [
            "313/313 [==============================] - 3s 8ms/step - loss: 0.0497 - accuracy: 0.9910\n",
            "the model accuracy is 0.9909999966621399\n"
          ]
        }
      ],
      "source": [
        "score=model_s.evaluate(X_test, y_test)\n",
        "print(f\"the model accuracy is {score[1]}\")"
      ]
    },
    {
      "cell_type": "code",
      "execution_count": null,
      "metadata": {
        "colab": {
          "background_save": true,
          "base_uri": "https://localhost:8080/"
        },
        "id": "gRXwvICGlGSh",
        "outputId": "9106bd13-f8ca-438f-9383-f1e39c45ce90"
      },
      "outputs": [
        {
          "name": "stdout",
          "output_type": "stream",
          "text": [
            "Epoch 1/50\n",
            "1750/1750 [==============================] - ETA: 0s - loss: 0.1779 - accuracy: 0.9455"
          ]
        },
        {
          "name": "stderr",
          "output_type": "stream",
          "text": [
            "WARNING:tensorflow:Early stopping conditioned on metric `val_acc` which is not available. Available metrics are: loss,accuracy,val_loss,val_accuracy\n",
            "WARNING:tensorflow:Can save best model only with val_acc available, skipping.\n"
          ]
        },
        {
          "name": "stdout",
          "output_type": "stream",
          "text": [
            "1750/1750 [==============================] - 54s 30ms/step - loss: 0.1779 - accuracy: 0.9455 - val_loss: 0.0663 - val_accuracy: 0.9793\n",
            "Epoch 2/50\n",
            "1750/1750 [==============================] - ETA: 0s - loss: 0.0633 - accuracy: 0.9800"
          ]
        },
        {
          "name": "stderr",
          "output_type": "stream",
          "text": [
            "WARNING:tensorflow:Early stopping conditioned on metric `val_acc` which is not available. Available metrics are: loss,accuracy,val_loss,val_accuracy\n",
            "WARNING:tensorflow:Can save best model only with val_acc available, skipping.\n"
          ]
        },
        {
          "name": "stdout",
          "output_type": "stream",
          "text": [
            "1750/1750 [==============================] - 52s 30ms/step - loss: 0.0633 - accuracy: 0.9800 - val_loss: 0.0476 - val_accuracy: 0.9854\n",
            "Epoch 3/50\n",
            "1749/1750 [============================>.] - ETA: 0s - loss: 0.0469 - accuracy: 0.9852"
          ]
        },
        {
          "name": "stderr",
          "output_type": "stream",
          "text": [
            "WARNING:tensorflow:Early stopping conditioned on metric `val_acc` which is not available. Available metrics are: loss,accuracy,val_loss,val_accuracy\n",
            "WARNING:tensorflow:Can save best model only with val_acc available, skipping.\n"
          ]
        },
        {
          "name": "stdout",
          "output_type": "stream",
          "text": [
            "1750/1750 [==============================] - 54s 31ms/step - loss: 0.0469 - accuracy: 0.9852 - val_loss: 0.0424 - val_accuracy: 0.9869\n",
            "Epoch 4/50\n",
            "1750/1750 [==============================] - ETA: 0s - loss: 0.0390 - accuracy: 0.9881"
          ]
        },
        {
          "name": "stderr",
          "output_type": "stream",
          "text": [
            "WARNING:tensorflow:Early stopping conditioned on metric `val_acc` which is not available. Available metrics are: loss,accuracy,val_loss,val_accuracy\n",
            "WARNING:tensorflow:Can save best model only with val_acc available, skipping.\n"
          ]
        },
        {
          "name": "stdout",
          "output_type": "stream",
          "text": [
            "1750/1750 [==============================] - 52s 30ms/step - loss: 0.0390 - accuracy: 0.9881 - val_loss: 0.0375 - val_accuracy: 0.9895\n",
            "Epoch 5/50\n",
            "1750/1750 [==============================] - ETA: 0s - loss: 0.0332 - accuracy: 0.9895"
          ]
        },
        {
          "name": "stderr",
          "output_type": "stream",
          "text": [
            "WARNING:tensorflow:Early stopping conditioned on metric `val_acc` which is not available. Available metrics are: loss,accuracy,val_loss,val_accuracy\n",
            "WARNING:tensorflow:Can save best model only with val_acc available, skipping.\n"
          ]
        },
        {
          "name": "stdout",
          "output_type": "stream",
          "text": [
            "1750/1750 [==============================] - 51s 29ms/step - loss: 0.0332 - accuracy: 0.9895 - val_loss: 0.0400 - val_accuracy: 0.9886\n",
            "Epoch 6/50\n",
            "1750/1750 [==============================] - ETA: 0s - loss: 0.0291 - accuracy: 0.9902"
          ]
        },
        {
          "name": "stderr",
          "output_type": "stream",
          "text": [
            "WARNING:tensorflow:Early stopping conditioned on metric `val_acc` which is not available. Available metrics are: loss,accuracy,val_loss,val_accuracy\n",
            "WARNING:tensorflow:Can save best model only with val_acc available, skipping.\n"
          ]
        },
        {
          "name": "stdout",
          "output_type": "stream",
          "text": [
            "1750/1750 [==============================] - 52s 30ms/step - loss: 0.0291 - accuracy: 0.9902 - val_loss: 0.0330 - val_accuracy: 0.9906\n",
            "Epoch 7/50\n",
            "1750/1750 [==============================] - ETA: 0s - loss: 0.0263 - accuracy: 0.9917"
          ]
        },
        {
          "name": "stderr",
          "output_type": "stream",
          "text": [
            "WARNING:tensorflow:Early stopping conditioned on metric `val_acc` which is not available. Available metrics are: loss,accuracy,val_loss,val_accuracy\n",
            "WARNING:tensorflow:Can save best model only with val_acc available, skipping.\n"
          ]
        },
        {
          "name": "stdout",
          "output_type": "stream",
          "text": [
            "1750/1750 [==============================] - 51s 29ms/step - loss: 0.0263 - accuracy: 0.9917 - val_loss: 0.0341 - val_accuracy: 0.9908\n",
            "Epoch 8/50\n",
            "1749/1750 [============================>.] - ETA: 0s - loss: 0.0221 - accuracy: 0.9927"
          ]
        },
        {
          "name": "stderr",
          "output_type": "stream",
          "text": [
            "WARNING:tensorflow:Early stopping conditioned on metric `val_acc` which is not available. Available metrics are: loss,accuracy,val_loss,val_accuracy\n",
            "WARNING:tensorflow:Can save best model only with val_acc available, skipping.\n"
          ]
        },
        {
          "name": "stdout",
          "output_type": "stream",
          "text": [
            "1750/1750 [==============================] - 54s 31ms/step - loss: 0.0221 - accuracy: 0.9927 - val_loss: 0.0338 - val_accuracy: 0.9910\n",
            "Epoch 9/50\n",
            "1750/1750 [==============================] - ETA: 0s - loss: 0.0201 - accuracy: 0.9934"
          ]
        },
        {
          "name": "stderr",
          "output_type": "stream",
          "text": [
            "WARNING:tensorflow:Early stopping conditioned on metric `val_acc` which is not available. Available metrics are: loss,accuracy,val_loss,val_accuracy\n",
            "WARNING:tensorflow:Can save best model only with val_acc available, skipping.\n"
          ]
        },
        {
          "name": "stdout",
          "output_type": "stream",
          "text": [
            "1750/1750 [==============================] - 52s 30ms/step - loss: 0.0201 - accuracy: 0.9934 - val_loss: 0.0372 - val_accuracy: 0.9901\n",
            "Epoch 10/50\n",
            "1749/1750 [============================>.] - ETA: 0s - loss: 0.0174 - accuracy: 0.9940"
          ]
        },
        {
          "name": "stderr",
          "output_type": "stream",
          "text": [
            "WARNING:tensorflow:Early stopping conditioned on metric `val_acc` which is not available. Available metrics are: loss,accuracy,val_loss,val_accuracy\n",
            "WARNING:tensorflow:Can save best model only with val_acc available, skipping.\n"
          ]
        },
        {
          "name": "stdout",
          "output_type": "stream",
          "text": [
            "1750/1750 [==============================] - 53s 30ms/step - loss: 0.0174 - accuracy: 0.9940 - val_loss: 0.0382 - val_accuracy: 0.9901\n",
            "Epoch 11/50\n",
            "1750/1750 [==============================] - ETA: 0s - loss: 0.0186 - accuracy: 0.9937"
          ]
        },
        {
          "name": "stderr",
          "output_type": "stream",
          "text": [
            "WARNING:tensorflow:Early stopping conditioned on metric `val_acc` which is not available. Available metrics are: loss,accuracy,val_loss,val_accuracy\n",
            "WARNING:tensorflow:Can save best model only with val_acc available, skipping.\n"
          ]
        },
        {
          "name": "stdout",
          "output_type": "stream",
          "text": [
            "1750/1750 [==============================] - 51s 29ms/step - loss: 0.0186 - accuracy: 0.9937 - val_loss: 0.0359 - val_accuracy: 0.9916\n",
            "Epoch 12/50\n",
            "1748/1750 [============================>.] - ETA: 0s - loss: 0.0157 - accuracy: 0.9948"
          ]
        },
        {
          "name": "stderr",
          "output_type": "stream",
          "text": [
            "WARNING:tensorflow:Early stopping conditioned on metric `val_acc` which is not available. Available metrics are: loss,accuracy,val_loss,val_accuracy\n",
            "WARNING:tensorflow:Can save best model only with val_acc available, skipping.\n"
          ]
        },
        {
          "name": "stdout",
          "output_type": "stream",
          "text": [
            "1750/1750 [==============================] - 54s 31ms/step - loss: 0.0157 - accuracy: 0.9948 - val_loss: 0.0342 - val_accuracy: 0.9915\n",
            "Epoch 13/50\n",
            "1750/1750 [==============================] - ETA: 0s - loss: 0.0151 - accuracy: 0.9948"
          ]
        },
        {
          "name": "stderr",
          "output_type": "stream",
          "text": [
            "WARNING:tensorflow:Early stopping conditioned on metric `val_acc` which is not available. Available metrics are: loss,accuracy,val_loss,val_accuracy\n",
            "WARNING:tensorflow:Can save best model only with val_acc available, skipping.\n"
          ]
        },
        {
          "name": "stdout",
          "output_type": "stream",
          "text": [
            "1750/1750 [==============================] - 52s 29ms/step - loss: 0.0151 - accuracy: 0.9948 - val_loss: 0.0376 - val_accuracy: 0.9906\n",
            "Epoch 14/50\n",
            "1750/1750 [==============================] - ETA: 0s - loss: 0.0142 - accuracy: 0.9953"
          ]
        },
        {
          "name": "stderr",
          "output_type": "stream",
          "text": [
            "WARNING:tensorflow:Early stopping conditioned on metric `val_acc` which is not available. Available metrics are: loss,accuracy,val_loss,val_accuracy\n",
            "WARNING:tensorflow:Can save best model only with val_acc available, skipping.\n"
          ]
        },
        {
          "name": "stdout",
          "output_type": "stream",
          "text": [
            "1750/1750 [==============================] - 52s 30ms/step - loss: 0.0142 - accuracy: 0.9953 - val_loss: 0.0392 - val_accuracy: 0.9900\n",
            "Epoch 15/50\n",
            "1749/1750 [============================>.] - ETA: 0s - loss: 0.0145 - accuracy: 0.9952"
          ]
        },
        {
          "name": "stderr",
          "output_type": "stream",
          "text": [
            "WARNING:tensorflow:Early stopping conditioned on metric `val_acc` which is not available. Available metrics are: loss,accuracy,val_loss,val_accuracy\n",
            "WARNING:tensorflow:Can save best model only with val_acc available, skipping.\n"
          ]
        },
        {
          "name": "stdout",
          "output_type": "stream",
          "text": [
            "1750/1750 [==============================] - 54s 31ms/step - loss: 0.0145 - accuracy: 0.9952 - val_loss: 0.0347 - val_accuracy: 0.9912\n",
            "Epoch 16/50\n",
            "1748/1750 [============================>.] - ETA: 0s - loss: 0.0130 - accuracy: 0.9957"
          ]
        },
        {
          "name": "stderr",
          "output_type": "stream",
          "text": [
            "WARNING:tensorflow:Early stopping conditioned on metric `val_acc` which is not available. Available metrics are: loss,accuracy,val_loss,val_accuracy\n",
            "WARNING:tensorflow:Can save best model only with val_acc available, skipping.\n"
          ]
        },
        {
          "name": "stdout",
          "output_type": "stream",
          "text": [
            "1750/1750 [==============================] - 51s 29ms/step - loss: 0.0129 - accuracy: 0.9957 - val_loss: 0.0375 - val_accuracy: 0.9903\n",
            "Epoch 17/50\n",
            "1749/1750 [============================>.] - ETA: 0s - loss: 0.0131 - accuracy: 0.9956"
          ]
        },
        {
          "name": "stderr",
          "output_type": "stream",
          "text": [
            "WARNING:tensorflow:Early stopping conditioned on metric `val_acc` which is not available. Available metrics are: loss,accuracy,val_loss,val_accuracy\n",
            "WARNING:tensorflow:Can save best model only with val_acc available, skipping.\n"
          ]
        },
        {
          "name": "stdout",
          "output_type": "stream",
          "text": [
            "1750/1750 [==============================] - 53s 30ms/step - loss: 0.0131 - accuracy: 0.9956 - val_loss: 0.0333 - val_accuracy: 0.9915\n",
            "Epoch 18/50\n",
            "1749/1750 [============================>.] - ETA: 0s - loss: 0.0109 - accuracy: 0.9960"
          ]
        },
        {
          "name": "stderr",
          "output_type": "stream",
          "text": [
            "WARNING:tensorflow:Early stopping conditioned on metric `val_acc` which is not available. Available metrics are: loss,accuracy,val_loss,val_accuracy\n",
            "WARNING:tensorflow:Can save best model only with val_acc available, skipping.\n"
          ]
        },
        {
          "name": "stdout",
          "output_type": "stream",
          "text": [
            "1750/1750 [==============================] - 52s 30ms/step - loss: 0.0109 - accuracy: 0.9960 - val_loss: 0.0338 - val_accuracy: 0.9913\n",
            "Epoch 19/50\n",
            "1750/1750 [==============================] - ETA: 0s - loss: 0.0115 - accuracy: 0.9957"
          ]
        },
        {
          "name": "stderr",
          "output_type": "stream",
          "text": [
            "WARNING:tensorflow:Early stopping conditioned on metric `val_acc` which is not available. Available metrics are: loss,accuracy,val_loss,val_accuracy\n",
            "WARNING:tensorflow:Can save best model only with val_acc available, skipping.\n"
          ]
        },
        {
          "name": "stdout",
          "output_type": "stream",
          "text": [
            "1750/1750 [==============================] - 54s 31ms/step - loss: 0.0115 - accuracy: 0.9957 - val_loss: 0.0355 - val_accuracy: 0.9912\n",
            "Epoch 20/50\n",
            "1749/1750 [============================>.] - ETA: 0s - loss: 0.0094 - accuracy: 0.9967"
          ]
        },
        {
          "name": "stderr",
          "output_type": "stream",
          "text": [
            "WARNING:tensorflow:Early stopping conditioned on metric `val_acc` which is not available. Available metrics are: loss,accuracy,val_loss,val_accuracy\n",
            "WARNING:tensorflow:Can save best model only with val_acc available, skipping.\n"
          ]
        },
        {
          "name": "stdout",
          "output_type": "stream",
          "text": [
            "1750/1750 [==============================] - 53s 30ms/step - loss: 0.0094 - accuracy: 0.9967 - val_loss: 0.0388 - val_accuracy: 0.9912\n",
            "Epoch 21/50\n",
            "1749/1750 [============================>.] - ETA: 0s - loss: 0.0108 - accuracy: 0.9961"
          ]
        },
        {
          "name": "stderr",
          "output_type": "stream",
          "text": [
            "WARNING:tensorflow:Early stopping conditioned on metric `val_acc` which is not available. Available metrics are: loss,accuracy,val_loss,val_accuracy\n",
            "WARNING:tensorflow:Can save best model only with val_acc available, skipping.\n"
          ]
        },
        {
          "name": "stdout",
          "output_type": "stream",
          "text": [
            "1750/1750 [==============================] - 56s 32ms/step - loss: 0.0108 - accuracy: 0.9961 - val_loss: 0.0335 - val_accuracy: 0.9924\n",
            "Epoch 22/50\n",
            "1750/1750 [==============================] - ETA: 0s - loss: 0.0098 - accuracy: 0.9966"
          ]
        },
        {
          "name": "stderr",
          "output_type": "stream",
          "text": [
            "WARNING:tensorflow:Early stopping conditioned on metric `val_acc` which is not available. Available metrics are: loss,accuracy,val_loss,val_accuracy\n",
            "WARNING:tensorflow:Can save best model only with val_acc available, skipping.\n"
          ]
        },
        {
          "name": "stdout",
          "output_type": "stream",
          "text": [
            "1750/1750 [==============================] - 53s 31ms/step - loss: 0.0098 - accuracy: 0.9966 - val_loss: 0.0374 - val_accuracy: 0.9919\n",
            "Epoch 23/50\n",
            "1748/1750 [============================>.] - ETA: 0s - loss: 0.0100 - accuracy: 0.9965"
          ]
        },
        {
          "name": "stderr",
          "output_type": "stream",
          "text": [
            "WARNING:tensorflow:Early stopping conditioned on metric `val_acc` which is not available. Available metrics are: loss,accuracy,val_loss,val_accuracy\n",
            "WARNING:tensorflow:Can save best model only with val_acc available, skipping.\n"
          ]
        },
        {
          "name": "stdout",
          "output_type": "stream",
          "text": [
            "1750/1750 [==============================] - 53s 30ms/step - loss: 0.0100 - accuracy: 0.9965 - val_loss: 0.0374 - val_accuracy: 0.9916\n",
            "Epoch 24/50\n",
            "1749/1750 [============================>.] - ETA: 0s - loss: 0.0089 - accuracy: 0.9971"
          ]
        },
        {
          "name": "stderr",
          "output_type": "stream",
          "text": [
            "WARNING:tensorflow:Early stopping conditioned on metric `val_acc` which is not available. Available metrics are: loss,accuracy,val_loss,val_accuracy\n",
            "WARNING:tensorflow:Can save best model only with val_acc available, skipping.\n"
          ]
        },
        {
          "name": "stdout",
          "output_type": "stream",
          "text": [
            "1750/1750 [==============================] - 53s 30ms/step - loss: 0.0089 - accuracy: 0.9971 - val_loss: 0.0385 - val_accuracy: 0.9912\n",
            "Epoch 25/50\n",
            "1750/1750 [==============================] - ETA: 0s - loss: 0.0082 - accuracy: 0.9971"
          ]
        },
        {
          "name": "stderr",
          "output_type": "stream",
          "text": [
            "WARNING:tensorflow:Early stopping conditioned on metric `val_acc` which is not available. Available metrics are: loss,accuracy,val_loss,val_accuracy\n",
            "WARNING:tensorflow:Can save best model only with val_acc available, skipping.\n"
          ]
        },
        {
          "name": "stdout",
          "output_type": "stream",
          "text": [
            "1750/1750 [==============================] - 50s 29ms/step - loss: 0.0082 - accuracy: 0.9971 - val_loss: 0.0431 - val_accuracy: 0.9914\n",
            "Epoch 26/50\n",
            "1750/1750 [==============================] - ETA: 0s - loss: 0.0077 - accuracy: 0.9971"
          ]
        },
        {
          "name": "stderr",
          "output_type": "stream",
          "text": [
            "WARNING:tensorflow:Early stopping conditioned on metric `val_acc` which is not available. Available metrics are: loss,accuracy,val_loss,val_accuracy\n",
            "WARNING:tensorflow:Can save best model only with val_acc available, skipping.\n"
          ]
        },
        {
          "name": "stdout",
          "output_type": "stream",
          "text": [
            "1750/1750 [==============================] - 52s 30ms/step - loss: 0.0077 - accuracy: 0.9971 - val_loss: 0.0403 - val_accuracy: 0.9918\n",
            "Epoch 27/50\n",
            "1750/1750 [==============================] - ETA: 0s - loss: 0.0079 - accuracy: 0.9973"
          ]
        },
        {
          "name": "stderr",
          "output_type": "stream",
          "text": [
            "WARNING:tensorflow:Early stopping conditioned on metric `val_acc` which is not available. Available metrics are: loss,accuracy,val_loss,val_accuracy\n",
            "WARNING:tensorflow:Can save best model only with val_acc available, skipping.\n"
          ]
        },
        {
          "name": "stdout",
          "output_type": "stream",
          "text": [
            "1750/1750 [==============================] - 52s 30ms/step - loss: 0.0079 - accuracy: 0.9973 - val_loss: 0.0427 - val_accuracy: 0.9916\n",
            "Epoch 28/50\n",
            "1749/1750 [============================>.] - ETA: 0s - loss: 0.0076 - accuracy: 0.9974"
          ]
        },
        {
          "name": "stderr",
          "output_type": "stream",
          "text": [
            "WARNING:tensorflow:Early stopping conditioned on metric `val_acc` which is not available. Available metrics are: loss,accuracy,val_loss,val_accuracy\n",
            "WARNING:tensorflow:Can save best model only with val_acc available, skipping.\n"
          ]
        },
        {
          "name": "stdout",
          "output_type": "stream",
          "text": [
            "1750/1750 [==============================] - 50s 29ms/step - loss: 0.0076 - accuracy: 0.9974 - val_loss: 0.0416 - val_accuracy: 0.9927\n",
            "Epoch 29/50\n",
            "1749/1750 [============================>.] - ETA: 0s - loss: 0.0086 - accuracy: 0.9971"
          ]
        },
        {
          "name": "stderr",
          "output_type": "stream",
          "text": [
            "WARNING:tensorflow:Early stopping conditioned on metric `val_acc` which is not available. Available metrics are: loss,accuracy,val_loss,val_accuracy\n",
            "WARNING:tensorflow:Can save best model only with val_acc available, skipping.\n"
          ]
        },
        {
          "name": "stdout",
          "output_type": "stream",
          "text": [
            "1750/1750 [==============================] - 54s 31ms/step - loss: 0.0086 - accuracy: 0.9971 - val_loss: 0.0445 - val_accuracy: 0.9905\n",
            "Epoch 30/50\n",
            "1749/1750 [============================>.] - ETA: 0s - loss: 0.0080 - accuracy: 0.9972"
          ]
        },
        {
          "name": "stderr",
          "output_type": "stream",
          "text": [
            "WARNING:tensorflow:Early stopping conditioned on metric `val_acc` which is not available. Available metrics are: loss,accuracy,val_loss,val_accuracy\n",
            "WARNING:tensorflow:Can save best model only with val_acc available, skipping.\n"
          ]
        },
        {
          "name": "stdout",
          "output_type": "stream",
          "text": [
            "1750/1750 [==============================] - 54s 31ms/step - loss: 0.0080 - accuracy: 0.9972 - val_loss: 0.0363 - val_accuracy: 0.9922\n",
            "Epoch 31/50\n",
            "1749/1750 [============================>.] - ETA: 0s - loss: 0.0072 - accuracy: 0.9977"
          ]
        },
        {
          "name": "stderr",
          "output_type": "stream",
          "text": [
            "WARNING:tensorflow:Early stopping conditioned on metric `val_acc` which is not available. Available metrics are: loss,accuracy,val_loss,val_accuracy\n",
            "WARNING:tensorflow:Can save best model only with val_acc available, skipping.\n"
          ]
        },
        {
          "name": "stdout",
          "output_type": "stream",
          "text": [
            "1750/1750 [==============================] - 53s 30ms/step - loss: 0.0072 - accuracy: 0.9977 - val_loss: 0.0450 - val_accuracy: 0.9914\n",
            "Epoch 32/50\n",
            "1749/1750 [============================>.] - ETA: 0s - loss: 0.0072 - accuracy: 0.9973"
          ]
        },
        {
          "name": "stderr",
          "output_type": "stream",
          "text": [
            "WARNING:tensorflow:Early stopping conditioned on metric `val_acc` which is not available. Available metrics are: loss,accuracy,val_loss,val_accuracy\n",
            "WARNING:tensorflow:Can save best model only with val_acc available, skipping.\n"
          ]
        },
        {
          "name": "stdout",
          "output_type": "stream",
          "text": [
            "1750/1750 [==============================] - 52s 30ms/step - loss: 0.0072 - accuracy: 0.9973 - val_loss: 0.0495 - val_accuracy: 0.9915\n",
            "Epoch 33/50\n",
            "1750/1750 [==============================] - ETA: 0s - loss: 0.0078 - accuracy: 0.9974"
          ]
        },
        {
          "name": "stderr",
          "output_type": "stream",
          "text": [
            "WARNING:tensorflow:Early stopping conditioned on metric `val_acc` which is not available. Available metrics are: loss,accuracy,val_loss,val_accuracy\n",
            "WARNING:tensorflow:Can save best model only with val_acc available, skipping.\n"
          ]
        },
        {
          "name": "stdout",
          "output_type": "stream",
          "text": [
            "1750/1750 [==============================] - 53s 30ms/step - loss: 0.0078 - accuracy: 0.9974 - val_loss: 0.0432 - val_accuracy: 0.9913\n",
            "Epoch 34/50\n",
            "1750/1750 [==============================] - ETA: 0s - loss: 0.0057 - accuracy: 0.9981"
          ]
        },
        {
          "name": "stderr",
          "output_type": "stream",
          "text": [
            "WARNING:tensorflow:Early stopping conditioned on metric `val_acc` which is not available. Available metrics are: loss,accuracy,val_loss,val_accuracy\n",
            "WARNING:tensorflow:Can save best model only with val_acc available, skipping.\n"
          ]
        },
        {
          "name": "stdout",
          "output_type": "stream",
          "text": [
            "1750/1750 [==============================] - 53s 30ms/step - loss: 0.0057 - accuracy: 0.9981 - val_loss: 0.0517 - val_accuracy: 0.9906\n",
            "Epoch 35/50\n",
            "1749/1750 [============================>.] - ETA: 0s - loss: 0.0075 - accuracy: 0.9976"
          ]
        },
        {
          "name": "stderr",
          "output_type": "stream",
          "text": [
            "WARNING:tensorflow:Early stopping conditioned on metric `val_acc` which is not available. Available metrics are: loss,accuracy,val_loss,val_accuracy\n",
            "WARNING:tensorflow:Can save best model only with val_acc available, skipping.\n"
          ]
        },
        {
          "name": "stdout",
          "output_type": "stream",
          "text": [
            "1750/1750 [==============================] - 54s 31ms/step - loss: 0.0075 - accuracy: 0.9976 - val_loss: 0.0419 - val_accuracy: 0.9920\n",
            "Epoch 36/50\n",
            "1748/1750 [============================>.] - ETA: 0s - loss: 0.0063 - accuracy: 0.9977"
          ]
        },
        {
          "name": "stderr",
          "output_type": "stream",
          "text": [
            "WARNING:tensorflow:Early stopping conditioned on metric `val_acc` which is not available. Available metrics are: loss,accuracy,val_loss,val_accuracy\n",
            "WARNING:tensorflow:Can save best model only with val_acc available, skipping.\n"
          ]
        },
        {
          "name": "stdout",
          "output_type": "stream",
          "text": [
            "1750/1750 [==============================] - 52s 30ms/step - loss: 0.0063 - accuracy: 0.9977 - val_loss: 0.0492 - val_accuracy: 0.9916\n",
            "Epoch 37/50\n",
            "1749/1750 [============================>.] - ETA: 0s - loss: 0.0074 - accuracy: 0.9973"
          ]
        },
        {
          "name": "stderr",
          "output_type": "stream",
          "text": [
            "WARNING:tensorflow:Early stopping conditioned on metric `val_acc` which is not available. Available metrics are: loss,accuracy,val_loss,val_accuracy\n",
            "WARNING:tensorflow:Can save best model only with val_acc available, skipping.\n"
          ]
        },
        {
          "name": "stdout",
          "output_type": "stream",
          "text": [
            "1750/1750 [==============================] - 50s 29ms/step - loss: 0.0074 - accuracy: 0.9973 - val_loss: 0.0480 - val_accuracy: 0.9911\n",
            "Epoch 38/50\n",
            "1749/1750 [============================>.] - ETA: 0s - loss: 0.0064 - accuracy: 0.9979"
          ]
        },
        {
          "name": "stderr",
          "output_type": "stream",
          "text": [
            "WARNING:tensorflow:Early stopping conditioned on metric `val_acc` which is not available. Available metrics are: loss,accuracy,val_loss,val_accuracy\n",
            "WARNING:tensorflow:Can save best model only with val_acc available, skipping.\n"
          ]
        },
        {
          "name": "stdout",
          "output_type": "stream",
          "text": [
            "1750/1750 [==============================] - 54s 31ms/step - loss: 0.0064 - accuracy: 0.9979 - val_loss: 0.0464 - val_accuracy: 0.9923\n",
            "Epoch 39/50\n",
            "1750/1750 [==============================] - ETA: 0s - loss: 0.0069 - accuracy: 0.9978"
          ]
        },
        {
          "name": "stderr",
          "output_type": "stream",
          "text": [
            "WARNING:tensorflow:Early stopping conditioned on metric `val_acc` which is not available. Available metrics are: loss,accuracy,val_loss,val_accuracy\n",
            "WARNING:tensorflow:Can save best model only with val_acc available, skipping.\n"
          ]
        },
        {
          "name": "stdout",
          "output_type": "stream",
          "text": [
            "1750/1750 [==============================] - 54s 31ms/step - loss: 0.0069 - accuracy: 0.9978 - val_loss: 0.0448 - val_accuracy: 0.9923\n",
            "Epoch 40/50\n",
            "1750/1750 [==============================] - ETA: 0s - loss: 0.0061 - accuracy: 0.9981"
          ]
        },
        {
          "name": "stderr",
          "output_type": "stream",
          "text": [
            "WARNING:tensorflow:Early stopping conditioned on metric `val_acc` which is not available. Available metrics are: loss,accuracy,val_loss,val_accuracy\n",
            "WARNING:tensorflow:Can save best model only with val_acc available, skipping.\n"
          ]
        },
        {
          "name": "stdout",
          "output_type": "stream",
          "text": [
            "1750/1750 [==============================] - 52s 29ms/step - loss: 0.0061 - accuracy: 0.9981 - val_loss: 0.0458 - val_accuracy: 0.9914\n",
            "Epoch 41/50\n",
            "1750/1750 [==============================] - ETA: 0s - loss: 0.0058 - accuracy: 0.9980"
          ]
        },
        {
          "name": "stderr",
          "output_type": "stream",
          "text": [
            "WARNING:tensorflow:Early stopping conditioned on metric `val_acc` which is not available. Available metrics are: loss,accuracy,val_loss,val_accuracy\n",
            "WARNING:tensorflow:Can save best model only with val_acc available, skipping.\n"
          ]
        },
        {
          "name": "stdout",
          "output_type": "stream",
          "text": [
            "1750/1750 [==============================] - 51s 29ms/step - loss: 0.0058 - accuracy: 0.9980 - val_loss: 0.0453 - val_accuracy: 0.9913\n",
            "Epoch 42/50\n",
            "1750/1750 [==============================] - ETA: 0s - loss: 0.0056 - accuracy: 0.9982"
          ]
        },
        {
          "name": "stderr",
          "output_type": "stream",
          "text": [
            "WARNING:tensorflow:Early stopping conditioned on metric `val_acc` which is not available. Available metrics are: loss,accuracy,val_loss,val_accuracy\n",
            "WARNING:tensorflow:Can save best model only with val_acc available, skipping.\n"
          ]
        },
        {
          "name": "stdout",
          "output_type": "stream",
          "text": [
            "1750/1750 [==============================] - 50s 28ms/step - loss: 0.0056 - accuracy: 0.9982 - val_loss: 0.0531 - val_accuracy: 0.9916\n",
            "Epoch 43/50\n",
            "1748/1750 [============================>.] - ETA: 0s - loss: 0.0060 - accuracy: 0.9979"
          ]
        },
        {
          "name": "stderr",
          "output_type": "stream",
          "text": [
            "WARNING:tensorflow:Early stopping conditioned on metric `val_acc` which is not available. Available metrics are: loss,accuracy,val_loss,val_accuracy\n",
            "WARNING:tensorflow:Can save best model only with val_acc available, skipping.\n"
          ]
        },
        {
          "name": "stdout",
          "output_type": "stream",
          "text": [
            "1750/1750 [==============================] - 49s 28ms/step - loss: 0.0060 - accuracy: 0.9979 - val_loss: 0.0508 - val_accuracy: 0.9921\n",
            "Epoch 44/50\n",
            "1749/1750 [============================>.] - ETA: 0s - loss: 0.0051 - accuracy: 0.9982"
          ]
        },
        {
          "name": "stderr",
          "output_type": "stream",
          "text": [
            "WARNING:tensorflow:Early stopping conditioned on metric `val_acc` which is not available. Available metrics are: loss,accuracy,val_loss,val_accuracy\n",
            "WARNING:tensorflow:Can save best model only with val_acc available, skipping.\n"
          ]
        },
        {
          "name": "stdout",
          "output_type": "stream",
          "text": [
            "1750/1750 [==============================] - 48s 27ms/step - loss: 0.0051 - accuracy: 0.9982 - val_loss: 0.0546 - val_accuracy: 0.9907\n",
            "Epoch 45/50\n",
            "1749/1750 [============================>.] - ETA: 0s - loss: 0.0076 - accuracy: 0.9973"
          ]
        },
        {
          "name": "stderr",
          "output_type": "stream",
          "text": [
            "WARNING:tensorflow:Early stopping conditioned on metric `val_acc` which is not available. Available metrics are: loss,accuracy,val_loss,val_accuracy\n",
            "WARNING:tensorflow:Can save best model only with val_acc available, skipping.\n"
          ]
        },
        {
          "name": "stdout",
          "output_type": "stream",
          "text": [
            "1750/1750 [==============================] - 50s 29ms/step - loss: 0.0076 - accuracy: 0.9973 - val_loss: 0.0560 - val_accuracy: 0.9910\n",
            "Epoch 46/50\n",
            "1750/1750 [==============================] - ETA: 0s - loss: 0.0064 - accuracy: 0.9978"
          ]
        },
        {
          "name": "stderr",
          "output_type": "stream",
          "text": [
            "WARNING:tensorflow:Early stopping conditioned on metric `val_acc` which is not available. Available metrics are: loss,accuracy,val_loss,val_accuracy\n",
            "WARNING:tensorflow:Can save best model only with val_acc available, skipping.\n"
          ]
        },
        {
          "name": "stdout",
          "output_type": "stream",
          "text": [
            "1750/1750 [==============================] - 48s 27ms/step - loss: 0.0064 - accuracy: 0.9978 - val_loss: 0.0461 - val_accuracy: 0.9923\n",
            "Epoch 47/50\n",
            "1750/1750 [==============================] - ETA: 0s - loss: 0.0066 - accuracy: 0.9978"
          ]
        },
        {
          "name": "stderr",
          "output_type": "stream",
          "text": [
            "WARNING:tensorflow:Early stopping conditioned on metric `val_acc` which is not available. Available metrics are: loss,accuracy,val_loss,val_accuracy\n",
            "WARNING:tensorflow:Can save best model only with val_acc available, skipping.\n"
          ]
        },
        {
          "name": "stdout",
          "output_type": "stream",
          "text": [
            "1750/1750 [==============================] - 49s 28ms/step - loss: 0.0066 - accuracy: 0.9978 - val_loss: 0.0503 - val_accuracy: 0.9916\n",
            "Epoch 48/50\n",
            "1749/1750 [============================>.] - ETA: 0s - loss: 0.0048 - accuracy: 0.9984"
          ]
        },
        {
          "name": "stderr",
          "output_type": "stream",
          "text": [
            "WARNING:tensorflow:Early stopping conditioned on metric `val_acc` which is not available. Available metrics are: loss,accuracy,val_loss,val_accuracy\n",
            "WARNING:tensorflow:Can save best model only with val_acc available, skipping.\n"
          ]
        },
        {
          "name": "stdout",
          "output_type": "stream",
          "text": [
            "1750/1750 [==============================] - 52s 29ms/step - loss: 0.0049 - accuracy: 0.9984 - val_loss: 0.0516 - val_accuracy: 0.9919\n",
            "Epoch 49/50\n",
            "1748/1750 [============================>.] - ETA: 0s - loss: 0.0058 - accuracy: 0.9983"
          ]
        },
        {
          "name": "stderr",
          "output_type": "stream",
          "text": [
            "WARNING:tensorflow:Early stopping conditioned on metric `val_acc` which is not available. Available metrics are: loss,accuracy,val_loss,val_accuracy\n",
            "WARNING:tensorflow:Can save best model only with val_acc available, skipping.\n"
          ]
        },
        {
          "name": "stdout",
          "output_type": "stream",
          "text": [
            "1750/1750 [==============================] - 49s 28ms/step - loss: 0.0058 - accuracy: 0.9983 - val_loss: 0.0493 - val_accuracy: 0.9916\n",
            "Epoch 50/50\n",
            "1748/1750 [============================>.] - ETA: 0s - loss: 0.0054 - accuracy: 0.9980"
          ]
        },
        {
          "name": "stderr",
          "output_type": "stream",
          "text": [
            "WARNING:tensorflow:Early stopping conditioned on metric `val_acc` which is not available. Available metrics are: loss,accuracy,val_loss,val_accuracy\n",
            "WARNING:tensorflow:Can save best model only with val_acc available, skipping.\n"
          ]
        },
        {
          "name": "stdout",
          "output_type": "stream",
          "text": [
            "1750/1750 [==============================] - 48s 28ms/step - loss: 0.0054 - accuracy: 0.9980 - val_loss: 0.0513 - val_accuracy: 0.9923\n",
            "438/438 [==============================] - 4s 8ms/step - loss: 0.0162 - accuracy: 0.9965\n",
            "Epoch 1/50\n",
            "1749/1750 [============================>.] - ETA: 0s - loss: 0.1837 - accuracy: 0.9447"
          ]
        },
        {
          "name": "stderr",
          "output_type": "stream",
          "text": [
            "WARNING:tensorflow:Early stopping conditioned on metric `val_acc` which is not available. Available metrics are: loss,accuracy,val_loss,val_accuracy\n",
            "WARNING:tensorflow:Can save best model only with val_acc available, skipping.\n"
          ]
        },
        {
          "name": "stdout",
          "output_type": "stream",
          "text": [
            "1750/1750 [==============================] - 52s 29ms/step - loss: 0.1837 - accuracy: 0.9447 - val_loss: 0.0643 - val_accuracy: 0.9801\n",
            "Epoch 2/50\n",
            "1749/1750 [============================>.] - ETA: 0s - loss: 0.0603 - accuracy: 0.9812"
          ]
        },
        {
          "name": "stderr",
          "output_type": "stream",
          "text": [
            "WARNING:tensorflow:Early stopping conditioned on metric `val_acc` which is not available. Available metrics are: loss,accuracy,val_loss,val_accuracy\n",
            "WARNING:tensorflow:Can save best model only with val_acc available, skipping.\n"
          ]
        },
        {
          "name": "stdout",
          "output_type": "stream",
          "text": [
            "1750/1750 [==============================] - 51s 29ms/step - loss: 0.0602 - accuracy: 0.9812 - val_loss: 0.0436 - val_accuracy: 0.9857\n",
            "Epoch 3/50\n",
            "1748/1750 [============================>.] - ETA: 0s - loss: 0.0493 - accuracy: 0.9848"
          ]
        },
        {
          "name": "stderr",
          "output_type": "stream",
          "text": [
            "WARNING:tensorflow:Early stopping conditioned on metric `val_acc` which is not available. Available metrics are: loss,accuracy,val_loss,val_accuracy\n",
            "WARNING:tensorflow:Can save best model only with val_acc available, skipping.\n"
          ]
        },
        {
          "name": "stdout",
          "output_type": "stream",
          "text": [
            "1750/1750 [==============================] - 51s 29ms/step - loss: 0.0493 - accuracy: 0.9848 - val_loss: 0.0382 - val_accuracy: 0.9874\n",
            "Epoch 4/50\n",
            "1748/1750 [============================>.] - ETA: 0s - loss: 0.0384 - accuracy: 0.9880"
          ]
        },
        {
          "name": "stderr",
          "output_type": "stream",
          "text": [
            "WARNING:tensorflow:Early stopping conditioned on metric `val_acc` which is not available. Available metrics are: loss,accuracy,val_loss,val_accuracy\n",
            "WARNING:tensorflow:Can save best model only with val_acc available, skipping.\n"
          ]
        },
        {
          "name": "stdout",
          "output_type": "stream",
          "text": [
            "1750/1750 [==============================] - 50s 28ms/step - loss: 0.0384 - accuracy: 0.9879 - val_loss: 0.0381 - val_accuracy: 0.9881\n",
            "Epoch 5/50\n",
            "1749/1750 [============================>.] - ETA: 0s - loss: 0.0332 - accuracy: 0.9897"
          ]
        },
        {
          "name": "stderr",
          "output_type": "stream",
          "text": [
            "WARNING:tensorflow:Early stopping conditioned on metric `val_acc` which is not available. Available metrics are: loss,accuracy,val_loss,val_accuracy\n",
            "WARNING:tensorflow:Can save best model only with val_acc available, skipping.\n"
          ]
        },
        {
          "name": "stdout",
          "output_type": "stream",
          "text": [
            "1750/1750 [==============================] - 52s 29ms/step - loss: 0.0332 - accuracy: 0.9897 - val_loss: 0.0328 - val_accuracy: 0.9897\n",
            "Epoch 6/50\n",
            "1749/1750 [============================>.] - ETA: 0s - loss: 0.0282 - accuracy: 0.9910"
          ]
        },
        {
          "name": "stderr",
          "output_type": "stream",
          "text": [
            "WARNING:tensorflow:Early stopping conditioned on metric `val_acc` which is not available. Available metrics are: loss,accuracy,val_loss,val_accuracy\n",
            "WARNING:tensorflow:Can save best model only with val_acc available, skipping.\n"
          ]
        },
        {
          "name": "stdout",
          "output_type": "stream",
          "text": [
            "1750/1750 [==============================] - 51s 29ms/step - loss: 0.0282 - accuracy: 0.9910 - val_loss: 0.0374 - val_accuracy: 0.9883\n",
            "Epoch 7/50\n",
            "1750/1750 [==============================] - ETA: 0s - loss: 0.0258 - accuracy: 0.9916"
          ]
        },
        {
          "name": "stderr",
          "output_type": "stream",
          "text": [
            "WARNING:tensorflow:Early stopping conditioned on metric `val_acc` which is not available. Available metrics are: loss,accuracy,val_loss,val_accuracy\n",
            "WARNING:tensorflow:Can save best model only with val_acc available, skipping.\n"
          ]
        },
        {
          "name": "stdout",
          "output_type": "stream",
          "text": [
            "1750/1750 [==============================] - 49s 28ms/step - loss: 0.0258 - accuracy: 0.9916 - val_loss: 0.0322 - val_accuracy: 0.9901\n",
            "Epoch 8/50\n",
            "1750/1750 [==============================] - ETA: 0s - loss: 0.0228 - accuracy: 0.9923"
          ]
        },
        {
          "name": "stderr",
          "output_type": "stream",
          "text": [
            "WARNING:tensorflow:Early stopping conditioned on metric `val_acc` which is not available. Available metrics are: loss,accuracy,val_loss,val_accuracy\n",
            "WARNING:tensorflow:Can save best model only with val_acc available, skipping.\n"
          ]
        },
        {
          "name": "stdout",
          "output_type": "stream",
          "text": [
            "1750/1750 [==============================] - 48s 28ms/step - loss: 0.0228 - accuracy: 0.9923 - val_loss: 0.0336 - val_accuracy: 0.9896\n",
            "Epoch 9/50\n",
            "1750/1750 [==============================] - ETA: 0s - loss: 0.0214 - accuracy: 0.9927"
          ]
        },
        {
          "name": "stderr",
          "output_type": "stream",
          "text": [
            "WARNING:tensorflow:Early stopping conditioned on metric `val_acc` which is not available. Available metrics are: loss,accuracy,val_loss,val_accuracy\n",
            "WARNING:tensorflow:Can save best model only with val_acc available, skipping.\n"
          ]
        },
        {
          "name": "stdout",
          "output_type": "stream",
          "text": [
            "1750/1750 [==============================] - 49s 28ms/step - loss: 0.0214 - accuracy: 0.9927 - val_loss: 0.0315 - val_accuracy: 0.9901\n",
            "Epoch 10/50\n",
            "1749/1750 [============================>.] - ETA: 0s - loss: 0.0190 - accuracy: 0.9939"
          ]
        },
        {
          "name": "stderr",
          "output_type": "stream",
          "text": [
            "WARNING:tensorflow:Early stopping conditioned on metric `val_acc` which is not available. Available metrics are: loss,accuracy,val_loss,val_accuracy\n",
            "WARNING:tensorflow:Can save best model only with val_acc available, skipping.\n"
          ]
        },
        {
          "name": "stdout",
          "output_type": "stream",
          "text": [
            "1750/1750 [==============================] - 49s 28ms/step - loss: 0.0190 - accuracy: 0.9939 - val_loss: 0.0335 - val_accuracy: 0.9903\n",
            "Epoch 11/50\n",
            "1750/1750 [==============================] - ETA: 0s - loss: 0.0177 - accuracy: 0.9943"
          ]
        },
        {
          "name": "stderr",
          "output_type": "stream",
          "text": [
            "WARNING:tensorflow:Early stopping conditioned on metric `val_acc` which is not available. Available metrics are: loss,accuracy,val_loss,val_accuracy\n",
            "WARNING:tensorflow:Can save best model only with val_acc available, skipping.\n"
          ]
        },
        {
          "name": "stdout",
          "output_type": "stream",
          "text": [
            "1750/1750 [==============================] - 50s 29ms/step - loss: 0.0177 - accuracy: 0.9943 - val_loss: 0.0390 - val_accuracy: 0.9886\n",
            "Epoch 12/50\n",
            "1750/1750 [==============================] - ETA: 0s - loss: 0.0152 - accuracy: 0.9950"
          ]
        },
        {
          "name": "stderr",
          "output_type": "stream",
          "text": [
            "WARNING:tensorflow:Early stopping conditioned on metric `val_acc` which is not available. Available metrics are: loss,accuracy,val_loss,val_accuracy\n",
            "WARNING:tensorflow:Can save best model only with val_acc available, skipping.\n"
          ]
        },
        {
          "name": "stdout",
          "output_type": "stream",
          "text": [
            "1750/1750 [==============================] - 50s 28ms/step - loss: 0.0152 - accuracy: 0.9950 - val_loss: 0.0329 - val_accuracy: 0.9899\n",
            "Epoch 13/50\n",
            "1750/1750 [==============================] - ETA: 0s - loss: 0.0147 - accuracy: 0.9950"
          ]
        },
        {
          "name": "stderr",
          "output_type": "stream",
          "text": [
            "WARNING:tensorflow:Early stopping conditioned on metric `val_acc` which is not available. Available metrics are: loss,accuracy,val_loss,val_accuracy\n",
            "WARNING:tensorflow:Can save best model only with val_acc available, skipping.\n"
          ]
        },
        {
          "name": "stdout",
          "output_type": "stream",
          "text": [
            "1750/1750 [==============================] - 49s 28ms/step - loss: 0.0147 - accuracy: 0.9950 - val_loss: 0.0315 - val_accuracy: 0.9914\n",
            "Epoch 14/50\n",
            "1750/1750 [==============================] - ETA: 0s - loss: 0.0148 - accuracy: 0.9949"
          ]
        },
        {
          "name": "stderr",
          "output_type": "stream",
          "text": [
            "WARNING:tensorflow:Early stopping conditioned on metric `val_acc` which is not available. Available metrics are: loss,accuracy,val_loss,val_accuracy\n",
            "WARNING:tensorflow:Can save best model only with val_acc available, skipping.\n"
          ]
        },
        {
          "name": "stdout",
          "output_type": "stream",
          "text": [
            "1750/1750 [==============================] - 50s 28ms/step - loss: 0.0148 - accuracy: 0.9949 - val_loss: 0.0315 - val_accuracy: 0.9906\n",
            "Epoch 15/50\n",
            "1750/1750 [==============================] - ETA: 0s - loss: 0.0134 - accuracy: 0.9954"
          ]
        },
        {
          "name": "stderr",
          "output_type": "stream",
          "text": [
            "WARNING:tensorflow:Early stopping conditioned on metric `val_acc` which is not available. Available metrics are: loss,accuracy,val_loss,val_accuracy\n",
            "WARNING:tensorflow:Can save best model only with val_acc available, skipping.\n"
          ]
        },
        {
          "name": "stdout",
          "output_type": "stream",
          "text": [
            "1750/1750 [==============================] - 50s 29ms/step - loss: 0.0134 - accuracy: 0.9954 - val_loss: 0.0370 - val_accuracy: 0.9901\n",
            "Epoch 16/50\n",
            "1750/1750 [==============================] - ETA: 0s - loss: 0.0125 - accuracy: 0.9957"
          ]
        },
        {
          "name": "stderr",
          "output_type": "stream",
          "text": [
            "WARNING:tensorflow:Early stopping conditioned on metric `val_acc` which is not available. Available metrics are: loss,accuracy,val_loss,val_accuracy\n",
            "WARNING:tensorflow:Can save best model only with val_acc available, skipping.\n"
          ]
        },
        {
          "name": "stdout",
          "output_type": "stream",
          "text": [
            "1750/1750 [==============================] - 50s 29ms/step - loss: 0.0125 - accuracy: 0.9957 - val_loss: 0.0355 - val_accuracy: 0.9909\n",
            "Epoch 17/50\n",
            "1750/1750 [==============================] - ETA: 0s - loss: 0.0111 - accuracy: 0.9962"
          ]
        },
        {
          "name": "stderr",
          "output_type": "stream",
          "text": [
            "WARNING:tensorflow:Early stopping conditioned on metric `val_acc` which is not available. Available metrics are: loss,accuracy,val_loss,val_accuracy\n",
            "WARNING:tensorflow:Can save best model only with val_acc available, skipping.\n"
          ]
        },
        {
          "name": "stdout",
          "output_type": "stream",
          "text": [
            "1750/1750 [==============================] - 48s 27ms/step - loss: 0.0111 - accuracy: 0.9962 - val_loss: 0.0331 - val_accuracy: 0.9909\n",
            "Epoch 18/50\n",
            "1750/1750 [==============================] - ETA: 0s - loss: 0.0122 - accuracy: 0.9958"
          ]
        },
        {
          "name": "stderr",
          "output_type": "stream",
          "text": [
            "WARNING:tensorflow:Early stopping conditioned on metric `val_acc` which is not available. Available metrics are: loss,accuracy,val_loss,val_accuracy\n",
            "WARNING:tensorflow:Can save best model only with val_acc available, skipping.\n"
          ]
        },
        {
          "name": "stdout",
          "output_type": "stream",
          "text": [
            "1750/1750 [==============================] - 49s 28ms/step - loss: 0.0122 - accuracy: 0.9958 - val_loss: 0.0328 - val_accuracy: 0.9909\n",
            "Epoch 19/50\n",
            "1749/1750 [============================>.] - ETA: 0s - loss: 0.0111 - accuracy: 0.9961"
          ]
        },
        {
          "name": "stderr",
          "output_type": "stream",
          "text": [
            "WARNING:tensorflow:Early stopping conditioned on metric `val_acc` which is not available. Available metrics are: loss,accuracy,val_loss,val_accuracy\n",
            "WARNING:tensorflow:Can save best model only with val_acc available, skipping.\n"
          ]
        },
        {
          "name": "stdout",
          "output_type": "stream",
          "text": [
            "1750/1750 [==============================] - 51s 29ms/step - loss: 0.0111 - accuracy: 0.9961 - val_loss: 0.0339 - val_accuracy: 0.9910\n",
            "Epoch 20/50\n",
            "1750/1750 [==============================] - ETA: 0s - loss: 0.0107 - accuracy: 0.9963"
          ]
        },
        {
          "name": "stderr",
          "output_type": "stream",
          "text": [
            "WARNING:tensorflow:Early stopping conditioned on metric `val_acc` which is not available. Available metrics are: loss,accuracy,val_loss,val_accuracy\n",
            "WARNING:tensorflow:Can save best model only with val_acc available, skipping.\n"
          ]
        },
        {
          "name": "stdout",
          "output_type": "stream",
          "text": [
            "1750/1750 [==============================] - 50s 29ms/step - loss: 0.0107 - accuracy: 0.9963 - val_loss: 0.0336 - val_accuracy: 0.9911\n",
            "Epoch 21/50\n",
            "1750/1750 [==============================] - ETA: 0s - loss: 0.0099 - accuracy: 0.9967"
          ]
        },
        {
          "name": "stderr",
          "output_type": "stream",
          "text": [
            "WARNING:tensorflow:Early stopping conditioned on metric `val_acc` which is not available. Available metrics are: loss,accuracy,val_loss,val_accuracy\n",
            "WARNING:tensorflow:Can save best model only with val_acc available, skipping.\n"
          ]
        },
        {
          "name": "stdout",
          "output_type": "stream",
          "text": [
            "1750/1750 [==============================] - 51s 29ms/step - loss: 0.0099 - accuracy: 0.9967 - val_loss: 0.0356 - val_accuracy: 0.9913\n",
            "Epoch 22/50\n",
            "1750/1750 [==============================] - ETA: 0s - loss: 0.0092 - accuracy: 0.9968"
          ]
        },
        {
          "name": "stderr",
          "output_type": "stream",
          "text": [
            "WARNING:tensorflow:Early stopping conditioned on metric `val_acc` which is not available. Available metrics are: loss,accuracy,val_loss,val_accuracy\n",
            "WARNING:tensorflow:Can save best model only with val_acc available, skipping.\n"
          ]
        },
        {
          "name": "stdout",
          "output_type": "stream",
          "text": [
            "1750/1750 [==============================] - 49s 28ms/step - loss: 0.0092 - accuracy: 0.9968 - val_loss: 0.0378 - val_accuracy: 0.9911\n",
            "Epoch 23/50\n",
            "1749/1750 [============================>.] - ETA: 0s - loss: 0.0081 - accuracy: 0.9973"
          ]
        },
        {
          "name": "stderr",
          "output_type": "stream",
          "text": [
            "WARNING:tensorflow:Early stopping conditioned on metric `val_acc` which is not available. Available metrics are: loss,accuracy,val_loss,val_accuracy\n",
            "WARNING:tensorflow:Can save best model only with val_acc available, skipping.\n"
          ]
        },
        {
          "name": "stdout",
          "output_type": "stream",
          "text": [
            "1750/1750 [==============================] - 49s 28ms/step - loss: 0.0081 - accuracy: 0.9973 - val_loss: 0.0381 - val_accuracy: 0.9911\n",
            "Epoch 24/50\n",
            "1750/1750 [==============================] - ETA: 0s - loss: 0.0102 - accuracy: 0.9967"
          ]
        },
        {
          "name": "stderr",
          "output_type": "stream",
          "text": [
            "WARNING:tensorflow:Early stopping conditioned on metric `val_acc` which is not available. Available metrics are: loss,accuracy,val_loss,val_accuracy\n",
            "WARNING:tensorflow:Can save best model only with val_acc available, skipping.\n"
          ]
        },
        {
          "name": "stdout",
          "output_type": "stream",
          "text": [
            "1750/1750 [==============================] - 49s 28ms/step - loss: 0.0102 - accuracy: 0.9967 - val_loss: 0.0363 - val_accuracy: 0.9911\n",
            "Epoch 25/50\n",
            "1750/1750 [==============================] - ETA: 0s - loss: 0.0082 - accuracy: 0.9971"
          ]
        },
        {
          "name": "stderr",
          "output_type": "stream",
          "text": [
            "WARNING:tensorflow:Early stopping conditioned on metric `val_acc` which is not available. Available metrics are: loss,accuracy,val_loss,val_accuracy\n",
            "WARNING:tensorflow:Can save best model only with val_acc available, skipping.\n"
          ]
        },
        {
          "name": "stdout",
          "output_type": "stream",
          "text": [
            "1750/1750 [==============================] - 50s 29ms/step - loss: 0.0082 - accuracy: 0.9971 - val_loss: 0.0335 - val_accuracy: 0.9916\n",
            "Epoch 26/50\n",
            "1749/1750 [============================>.] - ETA: 0s - loss: 0.0086 - accuracy: 0.9972"
          ]
        },
        {
          "name": "stderr",
          "output_type": "stream",
          "text": [
            "WARNING:tensorflow:Early stopping conditioned on metric `val_acc` which is not available. Available metrics are: loss,accuracy,val_loss,val_accuracy\n",
            "WARNING:tensorflow:Can save best model only with val_acc available, skipping.\n"
          ]
        },
        {
          "name": "stdout",
          "output_type": "stream",
          "text": [
            "1750/1750 [==============================] - 51s 29ms/step - loss: 0.0086 - accuracy: 0.9972 - val_loss: 0.0361 - val_accuracy: 0.9904\n",
            "Epoch 27/50\n",
            "1749/1750 [============================>.] - ETA: 0s - loss: 0.0085 - accuracy: 0.9970"
          ]
        },
        {
          "name": "stderr",
          "output_type": "stream",
          "text": [
            "WARNING:tensorflow:Early stopping conditioned on metric `val_acc` which is not available. Available metrics are: loss,accuracy,val_loss,val_accuracy\n",
            "WARNING:tensorflow:Can save best model only with val_acc available, skipping.\n"
          ]
        },
        {
          "name": "stdout",
          "output_type": "stream",
          "text": [
            "1750/1750 [==============================] - 50s 28ms/step - loss: 0.0085 - accuracy: 0.9970 - val_loss: 0.0354 - val_accuracy: 0.9916\n",
            "Epoch 28/50\n",
            "1750/1750 [==============================] - ETA: 0s - loss: 0.0081 - accuracy: 0.9973"
          ]
        },
        {
          "name": "stderr",
          "output_type": "stream",
          "text": [
            "WARNING:tensorflow:Early stopping conditioned on metric `val_acc` which is not available. Available metrics are: loss,accuracy,val_loss,val_accuracy\n",
            "WARNING:tensorflow:Can save best model only with val_acc available, skipping.\n"
          ]
        },
        {
          "name": "stdout",
          "output_type": "stream",
          "text": [
            "1750/1750 [==============================] - 50s 29ms/step - loss: 0.0081 - accuracy: 0.9973 - val_loss: 0.0340 - val_accuracy: 0.9920\n",
            "Epoch 29/50\n",
            "1749/1750 [============================>.] - ETA: 0s - loss: 0.0072 - accuracy: 0.9973"
          ]
        },
        {
          "name": "stderr",
          "output_type": "stream",
          "text": [
            "WARNING:tensorflow:Early stopping conditioned on metric `val_acc` which is not available. Available metrics are: loss,accuracy,val_loss,val_accuracy\n",
            "WARNING:tensorflow:Can save best model only with val_acc available, skipping.\n"
          ]
        },
        {
          "name": "stdout",
          "output_type": "stream",
          "text": [
            "1750/1750 [==============================] - 49s 28ms/step - loss: 0.0072 - accuracy: 0.9973 - val_loss: 0.0442 - val_accuracy: 0.9905\n",
            "Epoch 30/50\n",
            "1750/1750 [==============================] - ETA: 0s - loss: 0.0066 - accuracy: 0.9976"
          ]
        },
        {
          "name": "stderr",
          "output_type": "stream",
          "text": [
            "WARNING:tensorflow:Early stopping conditioned on metric `val_acc` which is not available. Available metrics are: loss,accuracy,val_loss,val_accuracy\n",
            "WARNING:tensorflow:Can save best model only with val_acc available, skipping.\n"
          ]
        },
        {
          "name": "stdout",
          "output_type": "stream",
          "text": [
            "1750/1750 [==============================] - 49s 28ms/step - loss: 0.0066 - accuracy: 0.9976 - val_loss: 0.0413 - val_accuracy: 0.9902\n",
            "Epoch 31/50\n",
            "1750/1750 [==============================] - ETA: 0s - loss: 0.0063 - accuracy: 0.9979"
          ]
        },
        {
          "name": "stderr",
          "output_type": "stream",
          "text": [
            "WARNING:tensorflow:Early stopping conditioned on metric `val_acc` which is not available. Available metrics are: loss,accuracy,val_loss,val_accuracy\n",
            "WARNING:tensorflow:Can save best model only with val_acc available, skipping.\n"
          ]
        },
        {
          "name": "stdout",
          "output_type": "stream",
          "text": [
            "1750/1750 [==============================] - 49s 28ms/step - loss: 0.0063 - accuracy: 0.9979 - val_loss: 0.0380 - val_accuracy: 0.9906\n",
            "Epoch 32/50\n",
            "1749/1750 [============================>.] - ETA: 0s - loss: 0.0074 - accuracy: 0.9974"
          ]
        },
        {
          "name": "stderr",
          "output_type": "stream",
          "text": [
            "WARNING:tensorflow:Early stopping conditioned on metric `val_acc` which is not available. Available metrics are: loss,accuracy,val_loss,val_accuracy\n",
            "WARNING:tensorflow:Can save best model only with val_acc available, skipping.\n"
          ]
        },
        {
          "name": "stdout",
          "output_type": "stream",
          "text": [
            "1750/1750 [==============================] - 53s 31ms/step - loss: 0.0074 - accuracy: 0.9974 - val_loss: 0.0454 - val_accuracy: 0.9898\n",
            "Epoch 33/50\n",
            "1750/1750 [==============================] - ETA: 0s - loss: 0.0063 - accuracy: 0.9978"
          ]
        },
        {
          "name": "stderr",
          "output_type": "stream",
          "text": [
            "WARNING:tensorflow:Early stopping conditioned on metric `val_acc` which is not available. Available metrics are: loss,accuracy,val_loss,val_accuracy\n",
            "WARNING:tensorflow:Can save best model only with val_acc available, skipping.\n"
          ]
        },
        {
          "name": "stdout",
          "output_type": "stream",
          "text": [
            "1750/1750 [==============================] - 51s 29ms/step - loss: 0.0063 - accuracy: 0.9978 - val_loss: 0.0393 - val_accuracy: 0.9911\n",
            "Epoch 34/50\n",
            "1750/1750 [==============================] - ETA: 0s - loss: 0.0079 - accuracy: 0.9974"
          ]
        },
        {
          "name": "stderr",
          "output_type": "stream",
          "text": [
            "WARNING:tensorflow:Early stopping conditioned on metric `val_acc` which is not available. Available metrics are: loss,accuracy,val_loss,val_accuracy\n",
            "WARNING:tensorflow:Can save best model only with val_acc available, skipping.\n"
          ]
        },
        {
          "name": "stdout",
          "output_type": "stream",
          "text": [
            "1750/1750 [==============================] - 51s 29ms/step - loss: 0.0079 - accuracy: 0.9974 - val_loss: 0.0427 - val_accuracy: 0.9902\n",
            "Epoch 35/50\n",
            "1750/1750 [==============================] - ETA: 0s - loss: 0.0063 - accuracy: 0.9978"
          ]
        },
        {
          "name": "stderr",
          "output_type": "stream",
          "text": [
            "WARNING:tensorflow:Early stopping conditioned on metric `val_acc` which is not available. Available metrics are: loss,accuracy,val_loss,val_accuracy\n",
            "WARNING:tensorflow:Can save best model only with val_acc available, skipping.\n"
          ]
        },
        {
          "name": "stdout",
          "output_type": "stream",
          "text": [
            "1750/1750 [==============================] - 50s 28ms/step - loss: 0.0063 - accuracy: 0.9978 - val_loss: 0.0390 - val_accuracy: 0.9918\n",
            "Epoch 36/50\n",
            "1748/1750 [============================>.] - ETA: 0s - loss: 0.0060 - accuracy: 0.9979"
          ]
        },
        {
          "name": "stderr",
          "output_type": "stream",
          "text": [
            "WARNING:tensorflow:Early stopping conditioned on metric `val_acc` which is not available. Available metrics are: loss,accuracy,val_loss,val_accuracy\n",
            "WARNING:tensorflow:Can save best model only with val_acc available, skipping.\n"
          ]
        },
        {
          "name": "stdout",
          "output_type": "stream",
          "text": [
            "1750/1750 [==============================] - 51s 29ms/step - loss: 0.0060 - accuracy: 0.9979 - val_loss: 0.0458 - val_accuracy: 0.9913\n",
            "Epoch 37/50\n",
            "1749/1750 [============================>.] - ETA: 0s - loss: 0.0072 - accuracy: 0.9975"
          ]
        },
        {
          "name": "stderr",
          "output_type": "stream",
          "text": [
            "WARNING:tensorflow:Early stopping conditioned on metric `val_acc` which is not available. Available metrics are: loss,accuracy,val_loss,val_accuracy\n",
            "WARNING:tensorflow:Can save best model only with val_acc available, skipping.\n"
          ]
        },
        {
          "name": "stdout",
          "output_type": "stream",
          "text": [
            "1750/1750 [==============================] - 49s 28ms/step - loss: 0.0072 - accuracy: 0.9975 - val_loss: 0.0400 - val_accuracy: 0.9914\n",
            "Epoch 38/50\n",
            "1750/1750 [==============================] - ETA: 0s - loss: 0.0060 - accuracy: 0.9978"
          ]
        },
        {
          "name": "stderr",
          "output_type": "stream",
          "text": [
            "WARNING:tensorflow:Early stopping conditioned on metric `val_acc` which is not available. Available metrics are: loss,accuracy,val_loss,val_accuracy\n",
            "WARNING:tensorflow:Can save best model only with val_acc available, skipping.\n"
          ]
        },
        {
          "name": "stdout",
          "output_type": "stream",
          "text": [
            "1750/1750 [==============================] - 50s 29ms/step - loss: 0.0060 - accuracy: 0.9978 - val_loss: 0.0433 - val_accuracy: 0.9909\n",
            "Epoch 39/50\n",
            "1748/1750 [============================>.] - ETA: 0s - loss: 0.0070 - accuracy: 0.9977"
          ]
        },
        {
          "name": "stderr",
          "output_type": "stream",
          "text": [
            "WARNING:tensorflow:Early stopping conditioned on metric `val_acc` which is not available. Available metrics are: loss,accuracy,val_loss,val_accuracy\n",
            "WARNING:tensorflow:Can save best model only with val_acc available, skipping.\n"
          ]
        },
        {
          "name": "stdout",
          "output_type": "stream",
          "text": [
            "1750/1750 [==============================] - 48s 27ms/step - loss: 0.0070 - accuracy: 0.9977 - val_loss: 0.0403 - val_accuracy: 0.9904\n",
            "Epoch 40/50\n",
            "1750/1750 [==============================] - ETA: 0s - loss: 0.0056 - accuracy: 0.9981"
          ]
        },
        {
          "name": "stderr",
          "output_type": "stream",
          "text": [
            "WARNING:tensorflow:Early stopping conditioned on metric `val_acc` which is not available. Available metrics are: loss,accuracy,val_loss,val_accuracy\n",
            "WARNING:tensorflow:Can save best model only with val_acc available, skipping.\n"
          ]
        },
        {
          "name": "stdout",
          "output_type": "stream",
          "text": [
            "1750/1750 [==============================] - 48s 28ms/step - loss: 0.0056 - accuracy: 0.9981 - val_loss: 0.0463 - val_accuracy: 0.9906\n",
            "Epoch 41/50\n",
            "1749/1750 [============================>.] - ETA: 0s - loss: 0.0060 - accuracy: 0.9981"
          ]
        },
        {
          "name": "stderr",
          "output_type": "stream",
          "text": [
            "WARNING:tensorflow:Early stopping conditioned on metric `val_acc` which is not available. Available metrics are: loss,accuracy,val_loss,val_accuracy\n",
            "WARNING:tensorflow:Can save best model only with val_acc available, skipping.\n"
          ]
        },
        {
          "name": "stdout",
          "output_type": "stream",
          "text": [
            "1750/1750 [==============================] - 51s 29ms/step - loss: 0.0060 - accuracy: 0.9981 - val_loss: 0.0480 - val_accuracy: 0.9909\n",
            "Epoch 42/50\n",
            "1750/1750 [==============================] - ETA: 0s - loss: 0.0052 - accuracy: 0.9982"
          ]
        },
        {
          "name": "stderr",
          "output_type": "stream",
          "text": [
            "WARNING:tensorflow:Early stopping conditioned on metric `val_acc` which is not available. Available metrics are: loss,accuracy,val_loss,val_accuracy\n",
            "WARNING:tensorflow:Can save best model only with val_acc available, skipping.\n"
          ]
        },
        {
          "name": "stdout",
          "output_type": "stream",
          "text": [
            "1750/1750 [==============================] - 48s 28ms/step - loss: 0.0052 - accuracy: 0.9982 - val_loss: 0.0446 - val_accuracy: 0.9920\n",
            "Epoch 43/50\n",
            "1749/1750 [============================>.] - ETA: 0s - loss: 0.0059 - accuracy: 0.9980"
          ]
        },
        {
          "name": "stderr",
          "output_type": "stream",
          "text": [
            "WARNING:tensorflow:Early stopping conditioned on metric `val_acc` which is not available. Available metrics are: loss,accuracy,val_loss,val_accuracy\n",
            "WARNING:tensorflow:Can save best model only with val_acc available, skipping.\n"
          ]
        },
        {
          "name": "stdout",
          "output_type": "stream",
          "text": [
            "1750/1750 [==============================] - 50s 29ms/step - loss: 0.0059 - accuracy: 0.9980 - val_loss: 0.0457 - val_accuracy: 0.9906\n",
            "Epoch 44/50\n",
            "1748/1750 [============================>.] - ETA: 0s - loss: 0.0049 - accuracy: 0.9984"
          ]
        },
        {
          "name": "stderr",
          "output_type": "stream",
          "text": [
            "WARNING:tensorflow:Early stopping conditioned on metric `val_acc` which is not available. Available metrics are: loss,accuracy,val_loss,val_accuracy\n",
            "WARNING:tensorflow:Can save best model only with val_acc available, skipping.\n"
          ]
        },
        {
          "name": "stdout",
          "output_type": "stream",
          "text": [
            "1750/1750 [==============================] - 49s 28ms/step - loss: 0.0049 - accuracy: 0.9984 - val_loss: 0.0447 - val_accuracy: 0.9914\n",
            "Epoch 45/50\n",
            "1749/1750 [============================>.] - ETA: 0s - loss: 0.0064 - accuracy: 0.9977"
          ]
        },
        {
          "name": "stderr",
          "output_type": "stream",
          "text": [
            "WARNING:tensorflow:Early stopping conditioned on metric `val_acc` which is not available. Available metrics are: loss,accuracy,val_loss,val_accuracy\n",
            "WARNING:tensorflow:Can save best model only with val_acc available, skipping.\n"
          ]
        },
        {
          "name": "stdout",
          "output_type": "stream",
          "text": [
            "1750/1750 [==============================] - 51s 29ms/step - loss: 0.0064 - accuracy: 0.9977 - val_loss: 0.0494 - val_accuracy: 0.9911\n",
            "Epoch 46/50\n",
            "1750/1750 [==============================] - ETA: 0s - loss: 0.0055 - accuracy: 0.9981"
          ]
        },
        {
          "name": "stderr",
          "output_type": "stream",
          "text": [
            "WARNING:tensorflow:Early stopping conditioned on metric `val_acc` which is not available. Available metrics are: loss,accuracy,val_loss,val_accuracy\n",
            "WARNING:tensorflow:Can save best model only with val_acc available, skipping.\n"
          ]
        },
        {
          "name": "stdout",
          "output_type": "stream",
          "text": [
            "1750/1750 [==============================] - 49s 28ms/step - loss: 0.0055 - accuracy: 0.9981 - val_loss: 0.0438 - val_accuracy: 0.9914\n",
            "Epoch 47/50\n",
            "1750/1750 [==============================] - ETA: 0s - loss: 0.0051 - accuracy: 0.9983"
          ]
        },
        {
          "name": "stderr",
          "output_type": "stream",
          "text": [
            "WARNING:tensorflow:Early stopping conditioned on metric `val_acc` which is not available. Available metrics are: loss,accuracy,val_loss,val_accuracy\n",
            "WARNING:tensorflow:Can save best model only with val_acc available, skipping.\n"
          ]
        },
        {
          "name": "stdout",
          "output_type": "stream",
          "text": [
            "1750/1750 [==============================] - 49s 28ms/step - loss: 0.0051 - accuracy: 0.9983 - val_loss: 0.0526 - val_accuracy: 0.9902\n",
            "Epoch 48/50\n",
            "1749/1750 [============================>.] - ETA: 0s - loss: 0.0058 - accuracy: 0.9978"
          ]
        },
        {
          "name": "stderr",
          "output_type": "stream",
          "text": [
            "WARNING:tensorflow:Early stopping conditioned on metric `val_acc` which is not available. Available metrics are: loss,accuracy,val_loss,val_accuracy\n",
            "WARNING:tensorflow:Can save best model only with val_acc available, skipping.\n"
          ]
        },
        {
          "name": "stdout",
          "output_type": "stream",
          "text": [
            "1750/1750 [==============================] - 49s 28ms/step - loss: 0.0058 - accuracy: 0.9978 - val_loss: 0.0502 - val_accuracy: 0.9909\n",
            "Epoch 49/50\n",
            "1750/1750 [==============================] - ETA: 0s - loss: 0.0058 - accuracy: 0.9978"
          ]
        },
        {
          "name": "stderr",
          "output_type": "stream",
          "text": [
            "WARNING:tensorflow:Early stopping conditioned on metric `val_acc` which is not available. Available metrics are: loss,accuracy,val_loss,val_accuracy\n",
            "WARNING:tensorflow:Can save best model only with val_acc available, skipping.\n"
          ]
        },
        {
          "name": "stdout",
          "output_type": "stream",
          "text": [
            "1750/1750 [==============================] - 49s 28ms/step - loss: 0.0058 - accuracy: 0.9978 - val_loss: 0.0545 - val_accuracy: 0.9904\n",
            "Epoch 50/50\n",
            "1748/1750 [============================>.] - ETA: 0s - loss: 0.0067 - accuracy: 0.9978"
          ]
        },
        {
          "name": "stderr",
          "output_type": "stream",
          "text": [
            "WARNING:tensorflow:Early stopping conditioned on metric `val_acc` which is not available. Available metrics are: loss,accuracy,val_loss,val_accuracy\n",
            "WARNING:tensorflow:Can save best model only with val_acc available, skipping.\n"
          ]
        },
        {
          "name": "stdout",
          "output_type": "stream",
          "text": [
            "1750/1750 [==============================] - 51s 29ms/step - loss: 0.0067 - accuracy: 0.9978 - val_loss: 0.0469 - val_accuracy: 0.9903\n",
            "438/438 [==============================] - 4s 8ms/step - loss: 0.0198 - accuracy: 0.9961\n",
            "Epoch 1/50\n",
            "1750/1750 [==============================] - ETA: 0s - loss: 0.1850 - accuracy: 0.9438"
          ]
        },
        {
          "name": "stderr",
          "output_type": "stream",
          "text": [
            "WARNING:tensorflow:Early stopping conditioned on metric `val_acc` which is not available. Available metrics are: loss,accuracy,val_loss,val_accuracy\n",
            "WARNING:tensorflow:Can save best model only with val_acc available, skipping.\n"
          ]
        },
        {
          "name": "stdout",
          "output_type": "stream",
          "text": [
            "1750/1750 [==============================] - 53s 30ms/step - loss: 0.1850 - accuracy: 0.9438 - val_loss: 0.0763 - val_accuracy: 0.9759\n",
            "Epoch 2/50\n",
            "1750/1750 [==============================] - ETA: 0s - loss: 0.0651 - accuracy: 0.9795"
          ]
        },
        {
          "name": "stderr",
          "output_type": "stream",
          "text": [
            "WARNING:tensorflow:Early stopping conditioned on metric `val_acc` which is not available. Available metrics are: loss,accuracy,val_loss,val_accuracy\n",
            "WARNING:tensorflow:Can save best model only with val_acc available, skipping.\n"
          ]
        },
        {
          "name": "stdout",
          "output_type": "stream",
          "text": [
            "1750/1750 [==============================] - 50s 29ms/step - loss: 0.0651 - accuracy: 0.9795 - val_loss: 0.0605 - val_accuracy: 0.9807\n",
            "Epoch 3/50\n",
            "1749/1750 [============================>.] - ETA: 0s - loss: 0.0482 - accuracy: 0.9850"
          ]
        },
        {
          "name": "stderr",
          "output_type": "stream",
          "text": [
            "WARNING:tensorflow:Early stopping conditioned on metric `val_acc` which is not available. Available metrics are: loss,accuracy,val_loss,val_accuracy\n",
            "WARNING:tensorflow:Can save best model only with val_acc available, skipping.\n"
          ]
        },
        {
          "name": "stdout",
          "output_type": "stream",
          "text": [
            "1750/1750 [==============================] - 51s 29ms/step - loss: 0.0482 - accuracy: 0.9850 - val_loss: 0.0476 - val_accuracy: 0.9850\n",
            "Epoch 4/50\n",
            "1749/1750 [============================>.] - ETA: 0s - loss: 0.0403 - accuracy: 0.9873"
          ]
        },
        {
          "name": "stderr",
          "output_type": "stream",
          "text": [
            "WARNING:tensorflow:Early stopping conditioned on metric `val_acc` which is not available. Available metrics are: loss,accuracy,val_loss,val_accuracy\n",
            "WARNING:tensorflow:Can save best model only with val_acc available, skipping.\n"
          ]
        },
        {
          "name": "stdout",
          "output_type": "stream",
          "text": [
            "1750/1750 [==============================] - 52s 30ms/step - loss: 0.0403 - accuracy: 0.9873 - val_loss: 0.0413 - val_accuracy: 0.9874\n",
            "Epoch 5/50\n",
            "1416/1750 [=======================>......] - ETA: 9s - loss: 0.0344 - accuracy: 0.9893"
          ]
        }
      ],
      "source": [
        "from sklearn.model_selection import StratifiedKFold\n",
        "from sklearn.metrics import accuracy_score\n",
        "\n",
        "# Concatenate the training and testing data for cross-validation\n",
        "X_all = np.concatenate((X_train, X_test), axis=0)\n",
        "y_all = np.concatenate((y_train, y_test), axis=0)\n",
        "\n",
        "# Define the number of folds for cross-validation\n",
        "n_splits = 5  # You can adjust this based on your preference\n",
        "\n",
        "# Initialize the StratifiedKFold object\n",
        "skf = StratifiedKFold(n_splits=n_splits, shuffle=True, random_state=42)\n",
        "\n",
        "# Lists to store accuracy for each fold\n",
        "accuracies = []\n",
        "\n",
        "# Iterate through the folds\n",
        "for train_index, val_index in skf.split(X_all, np.argmax(y_all, axis=1)):\n",
        "    # Split the data into training and validation sets\n",
        "    X_train_fold, X_val_fold = X_all[train_index], X_all[val_index]\n",
        "    y_train_fold, y_val_fold = y_all[train_index], y_all[val_index]\n",
        "\n",
        "    # Create a new model for each fold\n",
        "    model = Sequential()\n",
        "    model.add(Conv2D(32, (3,3), input_shape=(28, 28,1), activation='relu'))\n",
        "    model.add(MaxPool2D((2, 2)))\n",
        "    model.add(Conv2D(64, (3,3), activation='relu'))\n",
        "    model.add(MaxPool2D((2, 2)))\n",
        "    model.add(Flatten())\n",
        "    model.add(Dropout(0.25))\n",
        "    model.add(Dense(10, activation=\"softmax\"))\n",
        "\n",
        "    model.compile(optimizer='adam', loss=keras.losses.categorical_crossentropy, metrics=['accuracy'])\n",
        "\n",
        "    # Fit the model on the training data for this fold\n",
        "    model.fit(X_train_fold, y_train_fold, epochs=50, validation_data=(X_val_fold, y_val_fold), callbacks=[es, mc])\n",
        "\n",
        "    # Load the best model saved during training\n",
        "    model.load_weights(\"./bestmodel.h5\")\n",
        "\n",
        "    # Evaluate the model on the validation set\n",
        "    val_loss, val_acc = model.evaluate(X_val_fold, y_val_fold)\n",
        "    accuracies.append(val_acc)\n",
        "\n",
        "# Print the accuracies for each fold\n",
        "for i, acc in enumerate(accuracies):\n",
        "    print(f\"Fold {i+1} Accuracy: {acc}\")\n",
        "\n",
        "# Print the average accuracy across all folds\n",
        "print(f\"Average Accuracy: {np.mean(accuracies)}\")\n"
      ]
    }
  ],
  "metadata": {
    "colab": {
      "provenance": []
    },
    "kernelspec": {
      "display_name": "Python 3",
      "name": "python3"
    },
    "language_info": {
      "name": "python"
    }
  },
  "nbformat": 4,
  "nbformat_minor": 0
}